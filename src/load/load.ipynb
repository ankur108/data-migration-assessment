{
 "cells": [
  {
   "cell_type": "markdown",
   "id": "bb54bfe4",
   "metadata": {},
   "source": [
    "# Import Libraries"
   ]
  },
  {
   "cell_type": "code",
   "execution_count": 11,
   "id": "edeb4d7b",
   "metadata": {},
   "outputs": [],
   "source": [
    "import pandas as pd\n",
    "from datetime import datetime"
   ]
  },
  {
   "cell_type": "code",
   "execution_count": 12,
   "id": "45796497",
   "metadata": {},
   "outputs": [],
   "source": [
    "#Display all columns in DataFrame\n",
    "pd.set_option('display.max_columns', None)"
   ]
  },
  {
   "cell_type": "markdown",
   "id": "91c2c2f6",
   "metadata": {},
   "source": [
    "# Importing All DataFrames"
   ]
  },
  {
   "cell_type": "code",
   "execution_count": 13,
   "id": "f2816ede",
   "metadata": {},
   "outputs": [],
   "source": [
    "# Importing All Dimensional & Fact DataFrames\n",
    "\n",
    "# Reading transformed DataFrames\n",
    "company_transformed = pd.read_csv('/Users/ankur/Documents/GitHub/data-migration-assessment/data/transformed/company_transformed.csv')\n",
    "contact_transformed = pd.read_csv('/Users/ankur/Documents/GitHub/data-migration-assessment/data/transformed/contact_transformed.csv')\n",
    "deal_transformed = pd.read_csv('/Users/ankur/Documents/GitHub/data-migration-assessment/data/transformed/deal_transformed.csv')\n",
    "employees_transformed_df = pd.read_csv('/Users/ankur/Documents/GitHub/data-migration-assessment/data/transformed/employees_transformed_df.csv')\n",
    "transform_events = pd.read_csv('/Users/ankur/Documents/GitHub/data-migration-assessment/data/transformed/transform_events.csv')\n",
    "transform_participants = pd.read_csv('/Users/ankur/Documents/GitHub/data-migration-assessment/data/transformed/transform_participants.csv')\n",
    "\n",
    "# Reading reference DataFrames\n",
    "verticals_df = pd.read_csv('/Users/ankur/Documents/GitHub/data-migration-assessment/data/transformed/verticals_df.csv')\n",
    "subverticals_df = pd.read_csv('/Users/ankur/Documents/GitHub/data-migration-assessment/data/transformed/subverticals_df.csv')\n",
    "currency_df = pd.read_csv('/Users/ankur/Documents/GitHub/data-migration-assessment/data/transformed/currency_df.csv')\n",
    "status_df = pd.read_csv('/Users/ankur/Documents/GitHub/data-migration-assessment/data/transformed/status_df.csv')\n",
    "rsvp_status_df = pd.read_csv('/Users/ankur/Documents/GitHub/data-migration-assessment/data/transformed/rsvp_status_df.csv')\n",
    "event_status_df = pd.read_csv('/Users/ankur/Documents/GitHub/data-migration-assessment/data/transformed/event_status_df.csv')\n",
    "preferred_contact_method_df = pd.read_csv('/Users/ankur/Documents/GitHub/data-migration-assessment/data/transformed/preferred_contact_method_df.csv')\n",
    "event_type_df = pd.read_csv('/Users/ankur/Documents/GitHub/data-migration-assessment/data/transformed/event_type_df.csv')\n",
    "company_type_df = pd.read_csv('/Users/ankur/Documents/GitHub/data-migration-assessment/data/transformed/company_type_df.csv')\n",
    "active_stage_df = pd.read_csv('/Users/ankur/Documents/GitHub/data-migration-assessment/data/transformed/active_stage_df.csv')\n",
    "sourcing_df = pd.read_csv('/Users/ankur/Documents/GitHub/data-migration-assessment/data/transformed/sourcing_df.csv')\n",
    "TransactionType_df = pd.read_csv('/Users/ankur/Documents/GitHub/data-migration-assessment/data/transformed/TransactionType_df.csv')"
   ]
  },
  {
   "cell_type": "markdown",
   "id": "adadf415",
   "metadata": {},
   "source": [
    "# Loading Data Model"
   ]
  },
  {
   "cell_type": "code",
   "execution_count": 14,
   "id": "92b22e5f",
   "metadata": {},
   "outputs": [],
   "source": [
    "# Setting up TimeStamp & User Information\n",
    "company_transformed['CreatedAt'] = datetime.now()\n",
    "company_transformed['CreatedBy'] = \"System_Data_Migration\"\n",
    "company_transformed['UpdatedAt'] = datetime.now()\n",
    "company_transformed['UpdatedBy'] = \"System_Data_Migration\"\n",
    "\n",
    "# Setting up TimeStamp & User Information\n",
    "contact_transformed['CreatedAt'] = datetime.now()\n",
    "contact_transformed['CreatedBy'] = \"System_Data_Migration\"\n",
    "contact_transformed['UpdatedAt'] = datetime.now()\n",
    "contact_transformed['UpdatedBy'] = \"System_Data_Migration\"\n",
    "\n",
    "# Setting up TimeStamp & User Information\n",
    "deal_transformed['CreatedAt'] = datetime.now()\n",
    "deal_transformed['CreatedBy'] = \"System_Data_Migration\"\n",
    "deal_transformed['UpdatedAt'] = datetime.now()\n",
    "deal_transformed['UpdatedBy'] = \"System_Data_Migration\"\n",
    "\n",
    "# Setting up TimeStamp & User Information\n",
    "transform_events['CreatedAt'] = datetime.now()\n",
    "transform_events['CreatedBy'] = \"System_Data_Migration\"\n",
    "transform_events['UpdatedAt'] = datetime.now()\n",
    "transform_events['UpdatedBy'] = \"System_Data_Migration\"\n",
    "\n",
    "# Setting up TimeStamp & User Information\n",
    "transform_events['CreatedAt'] = datetime.now()\n",
    "transform_events['CreatedBy'] = \"System_Data_Migration\"\n",
    "transform_events['UpdatedAt'] = datetime.now()\n",
    "transform_events['UpdatedBy'] = \"System_Data_Migration\"\n"
   ]
  },
  {
   "cell_type": "markdown",
   "id": "f85055ba",
   "metadata": {},
   "source": [
    "# Exporting Data Model"
   ]
  },
  {
   "cell_type": "code",
   "execution_count": 15,
   "id": "f2136733",
   "metadata": {},
   "outputs": [],
   "source": [
    "# Exporting main transformed DataFrames\n",
    "company_transformed.to_csv('/Users/ankur/Documents/GitHub/data-migration-assessment/data/load/companies.csv', index=False)\n",
    "contact_transformed.to_csv('/Users/ankur/Documents/GitHub/data-migration-assessment/data/load/contacts.csv', index=False)\n",
    "deal_transformed.to_csv('/Users/ankur/Documents/GitHub/data-migration-assessment/data/load/deals.csv', index=False)\n",
    "employees_transformed_df.to_csv('/Users/ankur/Documents/GitHub/data-migration-assessment/data/load/employees.csv', index=False)\n",
    "transform_events.to_csv('/Users/ankur/Documents/GitHub/data-migration-assessment/data/load/events.csv', index=False)\n",
    "transform_participants.to_csv('/Users/ankur/Documents/GitHub/data-migration-assessment/data/load/participants.csv', index=False)\n",
    "\n",
    "# Exporting reference DataFrames\n",
    "verticals_df.to_csv('/Users/ankur/Documents/GitHub/data-migration-assessment/data/load/reference_verticals.csv', index=False)\n",
    "subverticals_df.to_csv('/Users/ankur/Documents/GitHub/data-migration-assessment/data/load/reference_subverticals_df.csv', index=False)\n",
    "currency_df.to_csv('/Users/ankur/Documents/GitHub/data-migration-assessment/data/load/reference_currency_df.csv', index=False)\n",
    "status_df.to_csv('/Users/ankur/Documents/GitHub/data-migration-assessment/data/load/reference_status_df.csv', index=False)\n",
    "rsvp_status_df.to_csv('/Users/ankur/Documents/GitHub/data-migration-assessment/data/load/reference_rsvp_status_df.csv', index=False)\n",
    "event_status_df.to_csv('/Users/ankur/Documents/GitHub/data-migration-assessment/data/load/reference_event_status_df.csv', index=False)\n",
    "preferred_contact_method_df.to_csv('/Users/ankur/Documents/GitHub/data-migration-assessment/data/load/reference_preferred_contact_method_df.csv', index=False)\n",
    "event_type_df.to_csv('/Users/ankur/Documents/GitHub/data-migration-assessment/data/load/reference_event_type_df.csv', index=False)\n",
    "company_type_df.to_csv('/Users/ankur/Documents/GitHub/data-migration-assessment/data/load/reference_company_type_df.csv', index=False)\n",
    "active_stage_df.to_csv('/Users/ankur/Documents/GitHub/data-migration-assessment/data/load/reference_active_stage_df.csv', index=False)\n",
    "sourcing_df.to_csv('/Users/ankur/Documents/GitHub/data-migration-assessment/data/load/reference_sourcing_df.csv', index=False)\n",
    "TransactionType_df.to_csv('/Users/ankur/Documents/GitHub/data-migration-assessment/data/load/reference_TransactionType_df.csv', index=False)"
   ]
  }
 ],
 "metadata": {
  "kernelspec": {
   "display_name": "base",
   "language": "python",
   "name": "python3"
  },
  "language_info": {
   "codemirror_mode": {
    "name": "ipython",
    "version": 3
   },
   "file_extension": ".py",
   "mimetype": "text/x-python",
   "name": "python",
   "nbconvert_exporter": "python",
   "pygments_lexer": "ipython3",
   "version": "3.10.9"
  }
 },
 "nbformat": 4,
 "nbformat_minor": 5
}
