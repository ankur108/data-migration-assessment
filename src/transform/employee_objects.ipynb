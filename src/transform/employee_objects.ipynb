{
 "cells": [
  {
   "cell_type": "markdown",
   "id": "f23c3c97",
   "metadata": {},
   "source": [
    "# Import Libraries"
   ]
  },
  {
   "cell_type": "code",
   "execution_count": 134,
   "id": "c1a6b9b1",
   "metadata": {},
   "outputs": [],
   "source": [
    "import pandas as pd\n",
    "pd.set_option('display.max_columns', None)"
   ]
  },
  {
   "cell_type": "markdown",
   "id": "1032c9d9",
   "metadata": {},
   "source": [
    "# Importind DataFrames"
   ]
  },
  {
   "cell_type": "code",
   "execution_count": 135,
   "id": "1ae9982a",
   "metadata": {},
   "outputs": [],
   "source": [
    "%store -r all_verticals_deals_df\n",
    "%store -r contacts_df"
   ]
  },
  {
   "cell_type": "markdown",
   "id": "db3bb6c2",
   "metadata": {},
   "source": [
    "# Mapping to 'Employee' Target Data Model"
   ]
  },
  {
   "cell_type": "code",
   "execution_count": 136,
   "id": "0d488e8b",
   "metadata": {},
   "outputs": [],
   "source": [
    "# Define the Events columns\n",
    "columns = [\n",
    "    \"Id\",\n",
    "    \"EmployeeName\",\n",
    "    \"Location\",\n",
    "    \"File\"\n",
    "]\n",
    "\n",
    "# Create an empty DataFrame with the columns\n",
    "employees_df = pd.DataFrame(columns=columns)\n"
   ]
  },
  {
   "cell_type": "code",
   "execution_count": 137,
   "id": "153a1958",
   "metadata": {},
   "outputs": [],
   "source": [
    "# Populate the Contacts DataFrame with Contact Information\n",
    "transform_employee_vertical_df = pd.DataFrame()\n",
    "\n",
    "transform_employee_vertical_df['EmployeeName'] = all_verticals_deals_df['Lead MD']\n",
    "transform_employee_vertical_df['File'] = \"events\""
   ]
  },
  {
   "cell_type": "code",
   "execution_count": 138,
   "id": "b299b2a8",
   "metadata": {},
   "outputs": [],
   "source": [
    "# Populate the Contacts DataFrame with Contact Information\n",
    "transform_employee_contact_df = pd.DataFrame()\n",
    "\n",
    "transform_employee_contact_df['EmployeeName'] = contacts_df['Coverage Person']\n",
    "transform_employee_contact_df['File'] = \"contact\""
   ]
  },
  {
   "cell_type": "code",
   "execution_count": 139,
   "id": "153e25b4",
   "metadata": {},
   "outputs": [],
   "source": [
    "# Concatenate all transformed DataFrames into a single DataFrame\n",
    "employees_transformed_df = pd.concat([\n",
    "    transform_employee_vertical_df,\n",
    "    transform_employee_contact_df\n",
    "], ignore_index=True)"
   ]
  },
  {
   "cell_type": "code",
   "execution_count": 140,
   "id": "ed138eec",
   "metadata": {},
   "outputs": [
    {
     "data": {
      "text/html": [
       "<div>\n",
       "<style scoped>\n",
       "    .dataframe tbody tr th:only-of-type {\n",
       "        vertical-align: middle;\n",
       "    }\n",
       "\n",
       "    .dataframe tbody tr th {\n",
       "        vertical-align: top;\n",
       "    }\n",
       "\n",
       "    .dataframe thead th {\n",
       "        text-align: right;\n",
       "    }\n",
       "</style>\n",
       "<table border=\"1\" class=\"dataframe\">\n",
       "  <thead>\n",
       "    <tr style=\"text-align: right;\">\n",
       "      <th></th>\n",
       "      <th>EmployeeName</th>\n",
       "      <th>File</th>\n",
       "    </tr>\n",
       "  </thead>\n",
       "  <tbody>\n",
       "    <tr>\n",
       "      <th>0</th>\n",
       "      <td>Jeannie Blackwood</td>\n",
       "      <td>events</td>\n",
       "    </tr>\n",
       "    <tr>\n",
       "      <th>1</th>\n",
       "      <td>Andrew Mah</td>\n",
       "      <td>events</td>\n",
       "    </tr>\n",
       "    <tr>\n",
       "      <th>2</th>\n",
       "      <td>Kripa Shah</td>\n",
       "      <td>events</td>\n",
       "    </tr>\n",
       "    <tr>\n",
       "      <th>3</th>\n",
       "      <td>Russ Barner</td>\n",
       "      <td>events</td>\n",
       "    </tr>\n",
       "    <tr>\n",
       "      <th>4</th>\n",
       "      <td>Matthew Kordonowy</td>\n",
       "      <td>events</td>\n",
       "    </tr>\n",
       "    <tr>\n",
       "      <th>...</th>\n",
       "      <td>...</td>\n",
       "      <td>...</td>\n",
       "    </tr>\n",
       "    <tr>\n",
       "      <th>625</th>\n",
       "      <td>Emily Royal</td>\n",
       "      <td>contact</td>\n",
       "    </tr>\n",
       "    <tr>\n",
       "      <th>626</th>\n",
       "      <td>Kripa Shah</td>\n",
       "      <td>contact</td>\n",
       "    </tr>\n",
       "    <tr>\n",
       "      <th>627</th>\n",
       "      <td>Hannah Jumper</td>\n",
       "      <td>contact</td>\n",
       "    </tr>\n",
       "    <tr>\n",
       "      <th>628</th>\n",
       "      <td>Jeannie Blackwood</td>\n",
       "      <td>contact</td>\n",
       "    </tr>\n",
       "    <tr>\n",
       "      <th>629</th>\n",
       "      <td>Kripa Shah</td>\n",
       "      <td>contact</td>\n",
       "    </tr>\n",
       "  </tbody>\n",
       "</table>\n",
       "<p>630 rows × 2 columns</p>\n",
       "</div>"
      ],
      "text/plain": [
       "          EmployeeName     File\n",
       "0    Jeannie Blackwood   events\n",
       "1           Andrew Mah   events\n",
       "2           Kripa Shah   events\n",
       "3          Russ Barner   events\n",
       "4    Matthew Kordonowy   events\n",
       "..                 ...      ...\n",
       "625        Emily Royal  contact\n",
       "626         Kripa Shah  contact\n",
       "627      Hannah Jumper  contact\n",
       "628  Jeannie Blackwood  contact\n",
       "629         Kripa Shah  contact\n",
       "\n",
       "[630 rows x 2 columns]"
      ]
     },
     "execution_count": 140,
     "metadata": {},
     "output_type": "execute_result"
    }
   ],
   "source": [
    "employees_transformed_df"
   ]
  },
  {
   "cell_type": "code",
   "execution_count": 141,
   "id": "0c31c5db",
   "metadata": {},
   "outputs": [
    {
     "name": "stdout",
     "output_type": "stream",
     "text": [
      "All columns matched successfully.\n"
     ]
    }
   ],
   "source": [
    "#Check for each column in the transformed DataFrame is part of the original Company DataFrame\n",
    "if not set(employees_transformed_df.columns).issubset(employees_df.columns):\n",
    "    raise ValueError(f\"employees_transformed_df has columns not in employees_df: {set(employees_transformed_df.columns) - set(employees_df.columns)}\")\n",
    "else:\n",
    "    print(\"All columns matched successfully.\")"
   ]
  },
  {
   "cell_type": "markdown",
   "id": "33777701",
   "metadata": {},
   "source": [
    "# Data Cleansing"
   ]
  },
  {
   "cell_type": "code",
   "execution_count": 142,
   "id": "72c1fcb1",
   "metadata": {},
   "outputs": [
    {
     "data": {
      "text/html": [
       "<div>\n",
       "<style scoped>\n",
       "    .dataframe tbody tr th:only-of-type {\n",
       "        vertical-align: middle;\n",
       "    }\n",
       "\n",
       "    .dataframe tbody tr th {\n",
       "        vertical-align: top;\n",
       "    }\n",
       "\n",
       "    .dataframe thead th {\n",
       "        text-align: right;\n",
       "    }\n",
       "</style>\n",
       "<table border=\"1\" class=\"dataframe\">\n",
       "  <thead>\n",
       "    <tr style=\"text-align: right;\">\n",
       "      <th></th>\n",
       "      <th>EmployeeName</th>\n",
       "      <th>File</th>\n",
       "    </tr>\n",
       "  </thead>\n",
       "  <tbody>\n",
       "    <tr>\n",
       "      <th>0</th>\n",
       "      <td>Andrew Mah</td>\n",
       "      <td>events events events events events events even...</td>\n",
       "    </tr>\n",
       "    <tr>\n",
       "      <th>1</th>\n",
       "      <td>Daniel Ding</td>\n",
       "      <td>contact contact contact contact contact contac...</td>\n",
       "    </tr>\n",
       "    <tr>\n",
       "      <th>2</th>\n",
       "      <td>Emily Royal</td>\n",
       "      <td>contact contact contact contact contact contac...</td>\n",
       "    </tr>\n",
       "    <tr>\n",
       "      <th>3</th>\n",
       "      <td>Hannah Jumper</td>\n",
       "      <td>contact contact contact contact contact contac...</td>\n",
       "    </tr>\n",
       "    <tr>\n",
       "      <th>4</th>\n",
       "      <td>Hannah Wilson</td>\n",
       "      <td>events events events events events events even...</td>\n",
       "    </tr>\n",
       "    <tr>\n",
       "      <th>5</th>\n",
       "      <td>Jeannie Blackwood</td>\n",
       "      <td>events events events events events events even...</td>\n",
       "    </tr>\n",
       "    <tr>\n",
       "      <th>6</th>\n",
       "      <td>Kripa Shah</td>\n",
       "      <td>events events events events events events even...</td>\n",
       "    </tr>\n",
       "    <tr>\n",
       "      <th>7</th>\n",
       "      <td>Matthew Kordonowy</td>\n",
       "      <td>events events events events events events even...</td>\n",
       "    </tr>\n",
       "    <tr>\n",
       "      <th>8</th>\n",
       "      <td>Russ Barner</td>\n",
       "      <td>events events events events events events even...</td>\n",
       "    </tr>\n",
       "  </tbody>\n",
       "</table>\n",
       "</div>"
      ],
      "text/plain": [
       "        EmployeeName                                               File\n",
       "0         Andrew Mah  events events events events events events even...\n",
       "1        Daniel Ding  contact contact contact contact contact contac...\n",
       "2        Emily Royal  contact contact contact contact contact contac...\n",
       "3      Hannah Jumper  contact contact contact contact contact contac...\n",
       "4      Hannah Wilson  events events events events events events even...\n",
       "5  Jeannie Blackwood  events events events events events events even...\n",
       "6         Kripa Shah  events events events events events events even...\n",
       "7  Matthew Kordonowy  events events events events events events even...\n",
       "8        Russ Barner  events events events events events events even..."
      ]
     },
     "execution_count": 142,
     "metadata": {},
     "output_type": "execute_result"
    }
   ],
   "source": [
    "\n",
    "all_employees_transformed_df = employees_transformed_df.groupby(['EmployeeName']).agg(lambda x: ' '.join(x.astype(str))).reset_index()\n",
    "all_employees_transformed_df"
   ]
  },
  {
   "cell_type": "code",
   "execution_count": 143,
   "id": "9afbd74a",
   "metadata": {},
   "outputs": [],
   "source": [
    "all_employees_transformed_df['Id'] = ['EMP_{:03d}'.format(i) for i in range(1, len(all_employees_transformed_df) + 1)]"
   ]
  },
  {
   "cell_type": "code",
   "execution_count": 144,
   "id": "7071383e",
   "metadata": {},
   "outputs": [
    {
     "data": {
      "text/html": [
       "<div>\n",
       "<style scoped>\n",
       "    .dataframe tbody tr th:only-of-type {\n",
       "        vertical-align: middle;\n",
       "    }\n",
       "\n",
       "    .dataframe tbody tr th {\n",
       "        vertical-align: top;\n",
       "    }\n",
       "\n",
       "    .dataframe thead th {\n",
       "        text-align: right;\n",
       "    }\n",
       "</style>\n",
       "<table border=\"1\" class=\"dataframe\">\n",
       "  <thead>\n",
       "    <tr style=\"text-align: right;\">\n",
       "      <th></th>\n",
       "      <th>EmployeeName</th>\n",
       "      <th>File</th>\n",
       "      <th>Id</th>\n",
       "    </tr>\n",
       "  </thead>\n",
       "  <tbody>\n",
       "    <tr>\n",
       "      <th>0</th>\n",
       "      <td>Andrew Mah</td>\n",
       "      <td>events events events events events events even...</td>\n",
       "      <td>EMP_001</td>\n",
       "    </tr>\n",
       "    <tr>\n",
       "      <th>1</th>\n",
       "      <td>Daniel Ding</td>\n",
       "      <td>contact contact contact contact contact contac...</td>\n",
       "      <td>EMP_002</td>\n",
       "    </tr>\n",
       "    <tr>\n",
       "      <th>2</th>\n",
       "      <td>Emily Royal</td>\n",
       "      <td>contact contact contact contact contact contac...</td>\n",
       "      <td>EMP_003</td>\n",
       "    </tr>\n",
       "    <tr>\n",
       "      <th>3</th>\n",
       "      <td>Hannah Jumper</td>\n",
       "      <td>contact contact contact contact contact contac...</td>\n",
       "      <td>EMP_004</td>\n",
       "    </tr>\n",
       "    <tr>\n",
       "      <th>4</th>\n",
       "      <td>Hannah Wilson</td>\n",
       "      <td>events events events events events events even...</td>\n",
       "      <td>EMP_005</td>\n",
       "    </tr>\n",
       "    <tr>\n",
       "      <th>5</th>\n",
       "      <td>Jeannie Blackwood</td>\n",
       "      <td>events events events events events events even...</td>\n",
       "      <td>EMP_006</td>\n",
       "    </tr>\n",
       "    <tr>\n",
       "      <th>6</th>\n",
       "      <td>Kripa Shah</td>\n",
       "      <td>events events events events events events even...</td>\n",
       "      <td>EMP_007</td>\n",
       "    </tr>\n",
       "    <tr>\n",
       "      <th>7</th>\n",
       "      <td>Matthew Kordonowy</td>\n",
       "      <td>events events events events events events even...</td>\n",
       "      <td>EMP_008</td>\n",
       "    </tr>\n",
       "    <tr>\n",
       "      <th>8</th>\n",
       "      <td>Russ Barner</td>\n",
       "      <td>events events events events events events even...</td>\n",
       "      <td>EMP_009</td>\n",
       "    </tr>\n",
       "  </tbody>\n",
       "</table>\n",
       "</div>"
      ],
      "text/plain": [
       "        EmployeeName                                               File  \\\n",
       "0         Andrew Mah  events events events events events events even...   \n",
       "1        Daniel Ding  contact contact contact contact contact contac...   \n",
       "2        Emily Royal  contact contact contact contact contact contac...   \n",
       "3      Hannah Jumper  contact contact contact contact contact contac...   \n",
       "4      Hannah Wilson  events events events events events events even...   \n",
       "5  Jeannie Blackwood  events events events events events events even...   \n",
       "6         Kripa Shah  events events events events events events even...   \n",
       "7  Matthew Kordonowy  events events events events events events even...   \n",
       "8        Russ Barner  events events events events events events even...   \n",
       "\n",
       "        Id  \n",
       "0  EMP_001  \n",
       "1  EMP_002  \n",
       "2  EMP_003  \n",
       "3  EMP_004  \n",
       "4  EMP_005  \n",
       "5  EMP_006  \n",
       "6  EMP_007  \n",
       "7  EMP_008  \n",
       "8  EMP_009  "
      ]
     },
     "execution_count": 144,
     "metadata": {},
     "output_type": "execute_result"
    }
   ],
   "source": [
    "all_employees_transformed_df"
   ]
  },
  {
   "cell_type": "code",
   "execution_count": 145,
   "id": "40d49eec",
   "metadata": {},
   "outputs": [],
   "source": [
    "# Concatenate result DataFrames with company_df to bring all columns together\n",
    "employees_transformed_df= pd.concat([\n",
    "    employees_df,\n",
    "    all_employees_transformed_df\n",
    "], ignore_index=True)"
   ]
  },
  {
   "cell_type": "markdown",
   "id": "144f4f5c",
   "metadata": {},
   "source": [
    "# Validate Contact Data Model"
   ]
  },
  {
   "cell_type": "code",
   "execution_count": 146,
   "id": "49dba123",
   "metadata": {},
   "outputs": [
    {
     "name": "stdout",
     "output_type": "stream",
     "text": [
      "All columns matched successfully.\n"
     ]
    }
   ],
   "source": [
    "#Check for each column in the transformed DataFrame is part of the original Company DataFrame\n",
    "if not set(employees_df.columns).issubset(employees_transformed_df.columns):\n",
    "    raise ValueError(f\"employees_df has columns not in employees_transformed_df: {set(employees_df.columns) - set(employees_transformed_df.columns)}\")\n",
    "else:\n",
    "    print(\"All columns matched successfully.\")"
   ]
  },
  {
   "cell_type": "code",
   "execution_count": 147,
   "id": "1f0da898",
   "metadata": {},
   "outputs": [],
   "source": [
    "employees_transformed_df = employees_transformed_df.drop('File', axis=1)"
   ]
  },
  {
   "cell_type": "code",
   "execution_count": 148,
   "id": "330acf08",
   "metadata": {},
   "outputs": [],
   "source": [
    "employees_transformed_df = employees_transformed_df.fillna('')"
   ]
  },
  {
   "cell_type": "code",
   "execution_count": 149,
   "id": "06dae7af",
   "metadata": {},
   "outputs": [
    {
     "data": {
      "text/html": [
       "<div>\n",
       "<style scoped>\n",
       "    .dataframe tbody tr th:only-of-type {\n",
       "        vertical-align: middle;\n",
       "    }\n",
       "\n",
       "    .dataframe tbody tr th {\n",
       "        vertical-align: top;\n",
       "    }\n",
       "\n",
       "    .dataframe thead th {\n",
       "        text-align: right;\n",
       "    }\n",
       "</style>\n",
       "<table border=\"1\" class=\"dataframe\">\n",
       "  <thead>\n",
       "    <tr style=\"text-align: right;\">\n",
       "      <th></th>\n",
       "      <th>Id</th>\n",
       "      <th>EmployeeName</th>\n",
       "      <th>Location</th>\n",
       "    </tr>\n",
       "  </thead>\n",
       "  <tbody>\n",
       "    <tr>\n",
       "      <th>0</th>\n",
       "      <td>EMP_001</td>\n",
       "      <td>Andrew Mah</td>\n",
       "      <td></td>\n",
       "    </tr>\n",
       "    <tr>\n",
       "      <th>1</th>\n",
       "      <td>EMP_002</td>\n",
       "      <td>Daniel Ding</td>\n",
       "      <td></td>\n",
       "    </tr>\n",
       "    <tr>\n",
       "      <th>2</th>\n",
       "      <td>EMP_003</td>\n",
       "      <td>Emily Royal</td>\n",
       "      <td></td>\n",
       "    </tr>\n",
       "    <tr>\n",
       "      <th>3</th>\n",
       "      <td>EMP_004</td>\n",
       "      <td>Hannah Jumper</td>\n",
       "      <td></td>\n",
       "    </tr>\n",
       "    <tr>\n",
       "      <th>4</th>\n",
       "      <td>EMP_005</td>\n",
       "      <td>Hannah Wilson</td>\n",
       "      <td></td>\n",
       "    </tr>\n",
       "    <tr>\n",
       "      <th>5</th>\n",
       "      <td>EMP_006</td>\n",
       "      <td>Jeannie Blackwood</td>\n",
       "      <td></td>\n",
       "    </tr>\n",
       "    <tr>\n",
       "      <th>6</th>\n",
       "      <td>EMP_007</td>\n",
       "      <td>Kripa Shah</td>\n",
       "      <td></td>\n",
       "    </tr>\n",
       "    <tr>\n",
       "      <th>7</th>\n",
       "      <td>EMP_008</td>\n",
       "      <td>Matthew Kordonowy</td>\n",
       "      <td></td>\n",
       "    </tr>\n",
       "    <tr>\n",
       "      <th>8</th>\n",
       "      <td>EMP_009</td>\n",
       "      <td>Russ Barner</td>\n",
       "      <td></td>\n",
       "    </tr>\n",
       "  </tbody>\n",
       "</table>\n",
       "</div>"
      ],
      "text/plain": [
       "        Id       EmployeeName Location\n",
       "0  EMP_001         Andrew Mah         \n",
       "1  EMP_002        Daniel Ding         \n",
       "2  EMP_003        Emily Royal         \n",
       "3  EMP_004      Hannah Jumper         \n",
       "4  EMP_005      Hannah Wilson         \n",
       "5  EMP_006  Jeannie Blackwood         \n",
       "6  EMP_007         Kripa Shah         \n",
       "7  EMP_008  Matthew Kordonowy         \n",
       "8  EMP_009        Russ Barner         "
      ]
     },
     "execution_count": 149,
     "metadata": {},
     "output_type": "execute_result"
    }
   ],
   "source": [
    "employees_transformed_df"
   ]
  },
  {
   "cell_type": "markdown",
   "id": "c955980d",
   "metadata": {},
   "source": [
    "# Export Companies Data"
   ]
  },
  {
   "cell_type": "code",
   "execution_count": 150,
   "id": "8c024062",
   "metadata": {},
   "outputs": [
    {
     "name": "stdout",
     "output_type": "stream",
     "text": [
      "Stored 'employees_transformed_df' (DataFrame)\n"
     ]
    }
   ],
   "source": [
    "%store employees_transformed_df"
   ]
  }
 ],
 "metadata": {
  "kernelspec": {
   "display_name": "base",
   "language": "python",
   "name": "python3"
  },
  "language_info": {
   "codemirror_mode": {
    "name": "ipython",
    "version": 3
   },
   "file_extension": ".py",
   "mimetype": "text/x-python",
   "name": "python",
   "nbconvert_exporter": "python",
   "pygments_lexer": "ipython3",
   "version": "3.10.9"
  }
 },
 "nbformat": 4,
 "nbformat_minor": 5
}
