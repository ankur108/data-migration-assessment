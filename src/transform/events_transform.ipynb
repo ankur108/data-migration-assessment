{
 "cells": [
  {
   "cell_type": "markdown",
   "id": "fdd01070",
   "metadata": {},
   "source": [
    "# Import Libraries"
   ]
  },
  {
   "cell_type": "code",
   "execution_count": 277,
   "id": "1b7ab40c",
   "metadata": {},
   "outputs": [],
   "source": [
    "import pandas as pd\n",
    "pd.set_option('display.max_columns', None)"
   ]
  },
  {
   "cell_type": "markdown",
   "id": "f0bc574f",
   "metadata": {},
   "source": [
    "# Importind DataFrames"
   ]
  },
  {
   "cell_type": "code",
   "execution_count": 278,
   "id": "e7c80ea2",
   "metadata": {},
   "outputs": [],
   "source": [
    "%store -r events_df"
   ]
  },
  {
   "cell_type": "markdown",
   "id": "44393c78",
   "metadata": {},
   "source": [
    "# Mapping to 'Events & Participants' Target Data Model"
   ]
  },
  {
   "cell_type": "code",
   "execution_count": 279,
   "id": "58dc94b8",
   "metadata": {},
   "outputs": [],
   "source": [
    "# Define the Events columns\n",
    "columns = [\n",
    "    \"Id\",\n",
    "    \"EventName\",\n",
    "    \"EventTypeID\",\n",
    "    \"Description\",\n",
    "    \"Location\",\n",
    "    \"EventStatusID\",\n",
    "    \"StartDateTime\",\n",
    "    \"EndDateTime\",\n",
    "    \"AdditionalDescription\",\n",
    "    \"CreatedAt\",\n",
    "    \"CreatedBy\",\n",
    "    \"UpdatedAt\",\n",
    "    \"UpdatedBy\",\n",
    "    \"File\"\n",
    "]\n",
    "\n",
    "# Create an empty DataFrame with the columns\n",
    "all_events_df = pd.DataFrame(columns=columns)\n"
   ]
  },
  {
   "cell_type": "code",
   "execution_count": 280,
   "id": "3d9485a7",
   "metadata": {},
   "outputs": [],
   "source": [
    "# Define the Participants columns\n",
    "columns = [\n",
    "    \"Id\",\n",
    "    \"ParticipantID\",\n",
    "    \"EventID\",\n",
    "    \"RSVPStatusId\",\n",
    "    \"File\"\n",
    "]\n",
    "\n",
    "# Create an empty DataFrame with Participants columns\n",
    "participants_df = pd.DataFrame(columns=columns)"
   ]
  },
  {
   "cell_type": "code",
   "execution_count": 281,
   "id": "696e0d25",
   "metadata": {},
   "outputs": [],
   "source": [
    "# Populate the Contacts DataFrame with Contact Information\n",
    "transform_events_df = pd.DataFrame()\n",
    "\n",
    "transform_events_df['EventName'] = events_df['EventType']\n",
    "transform_events_df['File'] = \"events\""
   ]
  },
  {
   "cell_type": "code",
   "execution_count": 282,
   "id": "a632478f",
   "metadata": {},
   "outputs": [],
   "source": [
    "# Populate the Contacts DataFrame with Contact Information\n",
    "transform_participants_df = pd.DataFrame()\n",
    "\n",
    "transform_participants_df['ParticipantID'] = events_df['Name']\n",
    "transform_participants_df['EventID'] = events_df['EventType']\n",
    "transform_participants_df['RSVPStatusId'] = events_df['Attendee Status']\n",
    "transform_participants_df['File'] = \"events\""
   ]
  },
  {
   "cell_type": "code",
   "execution_count": 283,
   "id": "8dc5a5ca",
   "metadata": {},
   "outputs": [
    {
     "data": {
      "text/html": [
       "<div>\n",
       "<style scoped>\n",
       "    .dataframe tbody tr th:only-of-type {\n",
       "        vertical-align: middle;\n",
       "    }\n",
       "\n",
       "    .dataframe tbody tr th {\n",
       "        vertical-align: top;\n",
       "    }\n",
       "\n",
       "    .dataframe thead th {\n",
       "        text-align: right;\n",
       "    }\n",
       "</style>\n",
       "<table border=\"1\" class=\"dataframe\">\n",
       "  <thead>\n",
       "    <tr style=\"text-align: right;\">\n",
       "      <th></th>\n",
       "      <th>EventName</th>\n",
       "      <th>File</th>\n",
       "    </tr>\n",
       "  </thead>\n",
       "  <tbody>\n",
       "    <tr>\n",
       "      <th>0</th>\n",
       "      <td>Leaders and Partners Dinner</td>\n",
       "      <td>events</td>\n",
       "    </tr>\n",
       "    <tr>\n",
       "      <th>1</th>\n",
       "      <td>Leaders and Partners Dinner</td>\n",
       "      <td>events</td>\n",
       "    </tr>\n",
       "    <tr>\n",
       "      <th>2</th>\n",
       "      <td>Leaders and Partners Dinner</td>\n",
       "      <td>events</td>\n",
       "    </tr>\n",
       "    <tr>\n",
       "      <th>3</th>\n",
       "      <td>Leaders and Partners Dinner</td>\n",
       "      <td>events</td>\n",
       "    </tr>\n",
       "    <tr>\n",
       "      <th>4</th>\n",
       "      <td>Leaders and Partners Dinner</td>\n",
       "      <td>events</td>\n",
       "    </tr>\n",
       "    <tr>\n",
       "      <th>...</th>\n",
       "      <td>...</td>\n",
       "      <td>...</td>\n",
       "    </tr>\n",
       "    <tr>\n",
       "      <th>105</th>\n",
       "      <td>2019 Market Re-Cap</td>\n",
       "      <td>events</td>\n",
       "    </tr>\n",
       "    <tr>\n",
       "      <th>106</th>\n",
       "      <td>2019 Market Re-Cap</td>\n",
       "      <td>events</td>\n",
       "    </tr>\n",
       "    <tr>\n",
       "      <th>107</th>\n",
       "      <td>2019 Market Re-Cap</td>\n",
       "      <td>events</td>\n",
       "    </tr>\n",
       "    <tr>\n",
       "      <th>108</th>\n",
       "      <td>2019 Market Re-Cap</td>\n",
       "      <td>events</td>\n",
       "    </tr>\n",
       "    <tr>\n",
       "      <th>109</th>\n",
       "      <td>2019 Market Re-Cap</td>\n",
       "      <td>events</td>\n",
       "    </tr>\n",
       "  </tbody>\n",
       "</table>\n",
       "<p>110 rows × 2 columns</p>\n",
       "</div>"
      ],
      "text/plain": [
       "                       EventName    File\n",
       "0    Leaders and Partners Dinner  events\n",
       "1    Leaders and Partners Dinner  events\n",
       "2    Leaders and Partners Dinner  events\n",
       "3    Leaders and Partners Dinner  events\n",
       "4    Leaders and Partners Dinner  events\n",
       "..                           ...     ...\n",
       "105           2019 Market Re-Cap  events\n",
       "106           2019 Market Re-Cap  events\n",
       "107           2019 Market Re-Cap  events\n",
       "108           2019 Market Re-Cap  events\n",
       "109           2019 Market Re-Cap  events\n",
       "\n",
       "[110 rows x 2 columns]"
      ]
     },
     "execution_count": 283,
     "metadata": {},
     "output_type": "execute_result"
    }
   ],
   "source": [
    "transform_events_df"
   ]
  },
  {
   "cell_type": "code",
   "execution_count": 284,
   "id": "f4519d1b",
   "metadata": {},
   "outputs": [
    {
     "data": {
      "text/html": [
       "<div>\n",
       "<style scoped>\n",
       "    .dataframe tbody tr th:only-of-type {\n",
       "        vertical-align: middle;\n",
       "    }\n",
       "\n",
       "    .dataframe tbody tr th {\n",
       "        vertical-align: top;\n",
       "    }\n",
       "\n",
       "    .dataframe thead th {\n",
       "        text-align: right;\n",
       "    }\n",
       "</style>\n",
       "<table border=\"1\" class=\"dataframe\">\n",
       "  <thead>\n",
       "    <tr style=\"text-align: right;\">\n",
       "      <th></th>\n",
       "      <th>ParticipantID</th>\n",
       "      <th>EventID</th>\n",
       "      <th>RSVPStatusId</th>\n",
       "      <th>File</th>\n",
       "    </tr>\n",
       "  </thead>\n",
       "  <tbody>\n",
       "    <tr>\n",
       "      <th>0</th>\n",
       "      <td>Rob Baltimore</td>\n",
       "      <td>Leaders and Partners Dinner</td>\n",
       "      <td>RSVP'd</td>\n",
       "      <td>events</td>\n",
       "    </tr>\n",
       "    <tr>\n",
       "      <th>1</th>\n",
       "      <td>Brian Lucas</td>\n",
       "      <td>Leaders and Partners Dinner</td>\n",
       "      <td>Declined</td>\n",
       "      <td>events</td>\n",
       "    </tr>\n",
       "    <tr>\n",
       "      <th>2</th>\n",
       "      <td>Luke Semple</td>\n",
       "      <td>Leaders and Partners Dinner</td>\n",
       "      <td>Checked In</td>\n",
       "      <td>events</td>\n",
       "    </tr>\n",
       "    <tr>\n",
       "      <th>3</th>\n",
       "      <td>Andrew Spitzer</td>\n",
       "      <td>Leaders and Partners Dinner</td>\n",
       "      <td>No Show</td>\n",
       "      <td>events</td>\n",
       "    </tr>\n",
       "    <tr>\n",
       "      <th>4</th>\n",
       "      <td>Derek Lewis</td>\n",
       "      <td>Leaders and Partners Dinner</td>\n",
       "      <td>Declined</td>\n",
       "      <td>events</td>\n",
       "    </tr>\n",
       "    <tr>\n",
       "      <th>...</th>\n",
       "      <td>...</td>\n",
       "      <td>...</td>\n",
       "      <td>...</td>\n",
       "      <td>...</td>\n",
       "    </tr>\n",
       "    <tr>\n",
       "      <th>105</th>\n",
       "      <td>Greg Urban</td>\n",
       "      <td>2019 Market Re-Cap</td>\n",
       "      <td>Checked In</td>\n",
       "      <td>events</td>\n",
       "    </tr>\n",
       "    <tr>\n",
       "      <th>106</th>\n",
       "      <td>Aftab Shahsingh</td>\n",
       "      <td>2019 Market Re-Cap</td>\n",
       "      <td>Checked In</td>\n",
       "      <td>events</td>\n",
       "    </tr>\n",
       "    <tr>\n",
       "      <th>107</th>\n",
       "      <td>Brendan Ryan</td>\n",
       "      <td>2019 Market Re-Cap</td>\n",
       "      <td>Checked In</td>\n",
       "      <td>events</td>\n",
       "    </tr>\n",
       "    <tr>\n",
       "      <th>108</th>\n",
       "      <td>Garrett DeNinno</td>\n",
       "      <td>2019 Market Re-Cap</td>\n",
       "      <td>Checked In</td>\n",
       "      <td>events</td>\n",
       "    </tr>\n",
       "    <tr>\n",
       "      <th>109</th>\n",
       "      <td>Jon Steele</td>\n",
       "      <td>2019 Market Re-Cap</td>\n",
       "      <td>Checked In</td>\n",
       "      <td>events</td>\n",
       "    </tr>\n",
       "  </tbody>\n",
       "</table>\n",
       "<p>110 rows × 4 columns</p>\n",
       "</div>"
      ],
      "text/plain": [
       "       ParticipantID                      EventID RSVPStatusId    File\n",
       "0      Rob Baltimore  Leaders and Partners Dinner       RSVP'd  events\n",
       "1        Brian Lucas  Leaders and Partners Dinner     Declined  events\n",
       "2        Luke Semple  Leaders and Partners Dinner   Checked In  events\n",
       "3     Andrew Spitzer  Leaders and Partners Dinner      No Show  events\n",
       "4        Derek Lewis  Leaders and Partners Dinner     Declined  events\n",
       "..               ...                          ...          ...     ...\n",
       "105       Greg Urban           2019 Market Re-Cap   Checked In  events\n",
       "106  Aftab Shahsingh           2019 Market Re-Cap   Checked In  events\n",
       "107     Brendan Ryan           2019 Market Re-Cap   Checked In  events\n",
       "108  Garrett DeNinno           2019 Market Re-Cap   Checked In  events\n",
       "109       Jon Steele           2019 Market Re-Cap   Checked In  events\n",
       "\n",
       "[110 rows x 4 columns]"
      ]
     },
     "execution_count": 284,
     "metadata": {},
     "output_type": "execute_result"
    }
   ],
   "source": [
    "transform_participants_df"
   ]
  },
  {
   "cell_type": "code",
   "execution_count": 285,
   "id": "365c619f",
   "metadata": {},
   "outputs": [
    {
     "name": "stdout",
     "output_type": "stream",
     "text": [
      "All columns matched successfully.\n"
     ]
    }
   ],
   "source": [
    "#Check for each column in the transformed DataFrame is part of the original Company DataFrame\n",
    "if not set(transform_events_df.columns).issubset(all_events_df.columns):\n",
    "    raise ValueError(f\"transform_events_df has columns not in all_events_df: {set(transform_events_df.columns) - set(all_events_df.columns)}\")\n",
    "else:\n",
    "    print(\"All columns matched successfully.\")"
   ]
  },
  {
   "cell_type": "markdown",
   "id": "82993fe0",
   "metadata": {},
   "source": [
    "# Data Cleansing"
   ]
  },
  {
   "cell_type": "code",
   "execution_count": 286,
   "id": "6e7466d7",
   "metadata": {},
   "outputs": [
    {
     "data": {
      "text/html": [
       "<div>\n",
       "<style scoped>\n",
       "    .dataframe tbody tr th:only-of-type {\n",
       "        vertical-align: middle;\n",
       "    }\n",
       "\n",
       "    .dataframe tbody tr th {\n",
       "        vertical-align: top;\n",
       "    }\n",
       "\n",
       "    .dataframe thead th {\n",
       "        text-align: right;\n",
       "    }\n",
       "</style>\n",
       "<table border=\"1\" class=\"dataframe\">\n",
       "  <thead>\n",
       "    <tr style=\"text-align: right;\">\n",
       "      <th></th>\n",
       "      <th>EventName</th>\n",
       "      <th>File</th>\n",
       "    </tr>\n",
       "  </thead>\n",
       "  <tbody>\n",
       "    <tr>\n",
       "      <th>0</th>\n",
       "      <td>2019 Market Re-Cap</td>\n",
       "      <td>events events events events events events even...</td>\n",
       "    </tr>\n",
       "    <tr>\n",
       "      <th>1</th>\n",
       "      <td>Leaders and Partners Dinner</td>\n",
       "      <td>events events events events events events even...</td>\n",
       "    </tr>\n",
       "  </tbody>\n",
       "</table>\n",
       "</div>"
      ],
      "text/plain": [
       "                     EventName  \\\n",
       "0           2019 Market Re-Cap   \n",
       "1  Leaders and Partners Dinner   \n",
       "\n",
       "                                                File  \n",
       "0  events events events events events events even...  \n",
       "1  events events events events events events even...  "
      ]
     },
     "execution_count": 286,
     "metadata": {},
     "output_type": "execute_result"
    }
   ],
   "source": [
    "\n",
    "all_transform_events_df = transform_events_df.groupby(['EventName']).agg(lambda x: ' '.join(x.astype(str))).reset_index()\n",
    "all_transform_events_df"
   ]
  },
  {
   "cell_type": "code",
   "execution_count": 287,
   "id": "dd6107f2",
   "metadata": {},
   "outputs": [],
   "source": [
    "all_transform_events_df['Id'] = ['ET_{:03d}'.format(i) for i in range(1, len(all_transform_events_df) + 1)]\n",
    "transform_participants_df['Id'] = ['PT_{:03d}'.format(i) for i in range(1, len(transform_participants_df) + 1)]"
   ]
  },
  {
   "cell_type": "code",
   "execution_count": 288,
   "id": "cb61edf0",
   "metadata": {},
   "outputs": [
    {
     "data": {
      "text/html": [
       "<div>\n",
       "<style scoped>\n",
       "    .dataframe tbody tr th:only-of-type {\n",
       "        vertical-align: middle;\n",
       "    }\n",
       "\n",
       "    .dataframe tbody tr th {\n",
       "        vertical-align: top;\n",
       "    }\n",
       "\n",
       "    .dataframe thead th {\n",
       "        text-align: right;\n",
       "    }\n",
       "</style>\n",
       "<table border=\"1\" class=\"dataframe\">\n",
       "  <thead>\n",
       "    <tr style=\"text-align: right;\">\n",
       "      <th></th>\n",
       "      <th>EventName</th>\n",
       "      <th>File</th>\n",
       "      <th>Id</th>\n",
       "    </tr>\n",
       "  </thead>\n",
       "  <tbody>\n",
       "    <tr>\n",
       "      <th>0</th>\n",
       "      <td>2019 Market Re-Cap</td>\n",
       "      <td>events events events events events events even...</td>\n",
       "      <td>ET_001</td>\n",
       "    </tr>\n",
       "    <tr>\n",
       "      <th>1</th>\n",
       "      <td>Leaders and Partners Dinner</td>\n",
       "      <td>events events events events events events even...</td>\n",
       "      <td>ET_002</td>\n",
       "    </tr>\n",
       "  </tbody>\n",
       "</table>\n",
       "</div>"
      ],
      "text/plain": [
       "                     EventName  \\\n",
       "0           2019 Market Re-Cap   \n",
       "1  Leaders and Partners Dinner   \n",
       "\n",
       "                                                File      Id  \n",
       "0  events events events events events events even...  ET_001  \n",
       "1  events events events events events events even...  ET_002  "
      ]
     },
     "execution_count": 288,
     "metadata": {},
     "output_type": "execute_result"
    }
   ],
   "source": [
    "all_transform_events_df"
   ]
  },
  {
   "cell_type": "code",
   "execution_count": 289,
   "id": "0c083aca",
   "metadata": {},
   "outputs": [
    {
     "data": {
      "text/html": [
       "<div>\n",
       "<style scoped>\n",
       "    .dataframe tbody tr th:only-of-type {\n",
       "        vertical-align: middle;\n",
       "    }\n",
       "\n",
       "    .dataframe tbody tr th {\n",
       "        vertical-align: top;\n",
       "    }\n",
       "\n",
       "    .dataframe thead th {\n",
       "        text-align: right;\n",
       "    }\n",
       "</style>\n",
       "<table border=\"1\" class=\"dataframe\">\n",
       "  <thead>\n",
       "    <tr style=\"text-align: right;\">\n",
       "      <th></th>\n",
       "      <th>ParticipantID</th>\n",
       "      <th>EventID</th>\n",
       "      <th>RSVPStatusId</th>\n",
       "      <th>File</th>\n",
       "      <th>Id</th>\n",
       "    </tr>\n",
       "  </thead>\n",
       "  <tbody>\n",
       "    <tr>\n",
       "      <th>0</th>\n",
       "      <td>Rob Baltimore</td>\n",
       "      <td>Leaders and Partners Dinner</td>\n",
       "      <td>RSVP'd</td>\n",
       "      <td>events</td>\n",
       "      <td>PT_001</td>\n",
       "    </tr>\n",
       "    <tr>\n",
       "      <th>1</th>\n",
       "      <td>Brian Lucas</td>\n",
       "      <td>Leaders and Partners Dinner</td>\n",
       "      <td>Declined</td>\n",
       "      <td>events</td>\n",
       "      <td>PT_002</td>\n",
       "    </tr>\n",
       "    <tr>\n",
       "      <th>2</th>\n",
       "      <td>Luke Semple</td>\n",
       "      <td>Leaders and Partners Dinner</td>\n",
       "      <td>Checked In</td>\n",
       "      <td>events</td>\n",
       "      <td>PT_003</td>\n",
       "    </tr>\n",
       "    <tr>\n",
       "      <th>3</th>\n",
       "      <td>Andrew Spitzer</td>\n",
       "      <td>Leaders and Partners Dinner</td>\n",
       "      <td>No Show</td>\n",
       "      <td>events</td>\n",
       "      <td>PT_004</td>\n",
       "    </tr>\n",
       "    <tr>\n",
       "      <th>4</th>\n",
       "      <td>Derek Lewis</td>\n",
       "      <td>Leaders and Partners Dinner</td>\n",
       "      <td>Declined</td>\n",
       "      <td>events</td>\n",
       "      <td>PT_005</td>\n",
       "    </tr>\n",
       "    <tr>\n",
       "      <th>...</th>\n",
       "      <td>...</td>\n",
       "      <td>...</td>\n",
       "      <td>...</td>\n",
       "      <td>...</td>\n",
       "      <td>...</td>\n",
       "    </tr>\n",
       "    <tr>\n",
       "      <th>105</th>\n",
       "      <td>Greg Urban</td>\n",
       "      <td>2019 Market Re-Cap</td>\n",
       "      <td>Checked In</td>\n",
       "      <td>events</td>\n",
       "      <td>PT_106</td>\n",
       "    </tr>\n",
       "    <tr>\n",
       "      <th>106</th>\n",
       "      <td>Aftab Shahsingh</td>\n",
       "      <td>2019 Market Re-Cap</td>\n",
       "      <td>Checked In</td>\n",
       "      <td>events</td>\n",
       "      <td>PT_107</td>\n",
       "    </tr>\n",
       "    <tr>\n",
       "      <th>107</th>\n",
       "      <td>Brendan Ryan</td>\n",
       "      <td>2019 Market Re-Cap</td>\n",
       "      <td>Checked In</td>\n",
       "      <td>events</td>\n",
       "      <td>PT_108</td>\n",
       "    </tr>\n",
       "    <tr>\n",
       "      <th>108</th>\n",
       "      <td>Garrett DeNinno</td>\n",
       "      <td>2019 Market Re-Cap</td>\n",
       "      <td>Checked In</td>\n",
       "      <td>events</td>\n",
       "      <td>PT_109</td>\n",
       "    </tr>\n",
       "    <tr>\n",
       "      <th>109</th>\n",
       "      <td>Jon Steele</td>\n",
       "      <td>2019 Market Re-Cap</td>\n",
       "      <td>Checked In</td>\n",
       "      <td>events</td>\n",
       "      <td>PT_110</td>\n",
       "    </tr>\n",
       "  </tbody>\n",
       "</table>\n",
       "<p>110 rows × 5 columns</p>\n",
       "</div>"
      ],
      "text/plain": [
       "       ParticipantID                      EventID RSVPStatusId    File      Id\n",
       "0      Rob Baltimore  Leaders and Partners Dinner       RSVP'd  events  PT_001\n",
       "1        Brian Lucas  Leaders and Partners Dinner     Declined  events  PT_002\n",
       "2        Luke Semple  Leaders and Partners Dinner   Checked In  events  PT_003\n",
       "3     Andrew Spitzer  Leaders and Partners Dinner      No Show  events  PT_004\n",
       "4        Derek Lewis  Leaders and Partners Dinner     Declined  events  PT_005\n",
       "..               ...                          ...          ...     ...     ...\n",
       "105       Greg Urban           2019 Market Re-Cap   Checked In  events  PT_106\n",
       "106  Aftab Shahsingh           2019 Market Re-Cap   Checked In  events  PT_107\n",
       "107     Brendan Ryan           2019 Market Re-Cap   Checked In  events  PT_108\n",
       "108  Garrett DeNinno           2019 Market Re-Cap   Checked In  events  PT_109\n",
       "109       Jon Steele           2019 Market Re-Cap   Checked In  events  PT_110\n",
       "\n",
       "[110 rows x 5 columns]"
      ]
     },
     "execution_count": 289,
     "metadata": {},
     "output_type": "execute_result"
    }
   ],
   "source": [
    "transform_participants_df"
   ]
  },
  {
   "cell_type": "code",
   "execution_count": 290,
   "id": "b9d63ac1",
   "metadata": {},
   "outputs": [],
   "source": [
    "# Concatenate result DataFrames with company_df to bring all columns together\n",
    "transform_events= pd.concat([\n",
    "    all_events_df,\n",
    "    all_transform_events_df\n",
    "], ignore_index=True)"
   ]
  },
  {
   "cell_type": "code",
   "execution_count": 291,
   "id": "2edd6b43",
   "metadata": {},
   "outputs": [],
   "source": [
    "# Concatenate result DataFrames with company_df to bring all columns together\n",
    "transform_participants= pd.concat([\n",
    "    participants_df,\n",
    "    transform_participants_df\n",
    "], ignore_index=True)"
   ]
  },
  {
   "cell_type": "code",
   "execution_count": 292,
   "id": "7cc81572",
   "metadata": {},
   "outputs": [],
   "source": [
    "# Fill NaN values with empty strings\n",
    "transform_events = transform_events.fillna('')"
   ]
  },
  {
   "cell_type": "code",
   "execution_count": 293,
   "id": "4e948f4a",
   "metadata": {},
   "outputs": [],
   "source": [
    "# Trim all string values\n",
    "transform_events = transform_events.applymap(lambda x: x.strip() if isinstance(x, str) else x)"
   ]
  },
  {
   "cell_type": "code",
   "execution_count": 294,
   "id": "b23dbe81",
   "metadata": {},
   "outputs": [],
   "source": [
    "# Fill NaN values with empty strings\n",
    "transform_participants = transform_participants.fillna('')"
   ]
  },
  {
   "cell_type": "code",
   "execution_count": 295,
   "id": "7b306333",
   "metadata": {},
   "outputs": [],
   "source": [
    "# Trim all string values\n",
    "transform_participants = transform_participants.applymap(lambda x: x.strip() if isinstance(x, str) else x)"
   ]
  },
  {
   "cell_type": "markdown",
   "id": "2dddd6c0",
   "metadata": {},
   "source": [
    "# Validate Contact Data Model"
   ]
  },
  {
   "cell_type": "code",
   "execution_count": 296,
   "id": "ed76ca69",
   "metadata": {},
   "outputs": [
    {
     "name": "stdout",
     "output_type": "stream",
     "text": [
      "All columns matched successfully.\n"
     ]
    }
   ],
   "source": [
    "#Check for each column in the transformed DataFrame is part of the original Company DataFrame\n",
    "if not set(all_events_df.columns).issubset(transform_events.columns):\n",
    "    raise ValueError(f\"all_events_df has columns not in transform_events: {set(all_events_df.columns) - set(transform_events.columns)}\")\n",
    "else:\n",
    "    print(\"All columns matched successfully.\")"
   ]
  },
  {
   "cell_type": "code",
   "execution_count": 297,
   "id": "9ffb16e2",
   "metadata": {},
   "outputs": [
    {
     "name": "stdout",
     "output_type": "stream",
     "text": [
      "All columns matched successfully.\n"
     ]
    }
   ],
   "source": [
    "#Check for each column in the transformed DataFrame is part of the original Company DataFrame\n",
    "if not set(participants_df.columns).issubset(transform_participants.columns):\n",
    "    raise ValueError(f\"participants_df has columns not in transform_participants: {set(participants_df.columns) - set(transform_participants.columns)}\")\n",
    "else:\n",
    "    print(\"All columns matched successfully.\")"
   ]
  },
  {
   "cell_type": "code",
   "execution_count": 298,
   "id": "8df677fa",
   "metadata": {},
   "outputs": [],
   "source": [
    "transform_events = transform_events.drop('File', axis=1)"
   ]
  },
  {
   "cell_type": "code",
   "execution_count": 299,
   "id": "79d6a6fb",
   "metadata": {},
   "outputs": [],
   "source": [
    "transform_participants = transform_participants.drop('File', axis=1)"
   ]
  },
  {
   "cell_type": "code",
   "execution_count": 300,
   "id": "e3937730",
   "metadata": {},
   "outputs": [
    {
     "data": {
      "text/html": [
       "<div>\n",
       "<style scoped>\n",
       "    .dataframe tbody tr th:only-of-type {\n",
       "        vertical-align: middle;\n",
       "    }\n",
       "\n",
       "    .dataframe tbody tr th {\n",
       "        vertical-align: top;\n",
       "    }\n",
       "\n",
       "    .dataframe thead th {\n",
       "        text-align: right;\n",
       "    }\n",
       "</style>\n",
       "<table border=\"1\" class=\"dataframe\">\n",
       "  <thead>\n",
       "    <tr style=\"text-align: right;\">\n",
       "      <th></th>\n",
       "      <th>Id</th>\n",
       "      <th>EventName</th>\n",
       "      <th>EventTypeID</th>\n",
       "      <th>Description</th>\n",
       "      <th>Location</th>\n",
       "      <th>EventStatusID</th>\n",
       "      <th>StartDateTime</th>\n",
       "      <th>EndDateTime</th>\n",
       "      <th>AdditionalDescription</th>\n",
       "      <th>CreatedAt</th>\n",
       "      <th>CreatedBy</th>\n",
       "      <th>UpdatedAt</th>\n",
       "      <th>UpdatedBy</th>\n",
       "    </tr>\n",
       "  </thead>\n",
       "  <tbody>\n",
       "    <tr>\n",
       "      <th>0</th>\n",
       "      <td>ET_001</td>\n",
       "      <td>2019 Market Re-Cap</td>\n",
       "      <td></td>\n",
       "      <td></td>\n",
       "      <td></td>\n",
       "      <td></td>\n",
       "      <td></td>\n",
       "      <td></td>\n",
       "      <td></td>\n",
       "      <td></td>\n",
       "      <td></td>\n",
       "      <td></td>\n",
       "      <td></td>\n",
       "    </tr>\n",
       "    <tr>\n",
       "      <th>1</th>\n",
       "      <td>ET_002</td>\n",
       "      <td>Leaders and Partners Dinner</td>\n",
       "      <td></td>\n",
       "      <td></td>\n",
       "      <td></td>\n",
       "      <td></td>\n",
       "      <td></td>\n",
       "      <td></td>\n",
       "      <td></td>\n",
       "      <td></td>\n",
       "      <td></td>\n",
       "      <td></td>\n",
       "      <td></td>\n",
       "    </tr>\n",
       "  </tbody>\n",
       "</table>\n",
       "</div>"
      ],
      "text/plain": [
       "       Id                    EventName EventTypeID Description Location  \\\n",
       "0  ET_001           2019 Market Re-Cap                                    \n",
       "1  ET_002  Leaders and Partners Dinner                                    \n",
       "\n",
       "  EventStatusID StartDateTime EndDateTime AdditionalDescription CreatedAt  \\\n",
       "0                                                                           \n",
       "1                                                                           \n",
       "\n",
       "  CreatedBy UpdatedAt UpdatedBy  \n",
       "0                                \n",
       "1                                "
      ]
     },
     "execution_count": 300,
     "metadata": {},
     "output_type": "execute_result"
    }
   ],
   "source": [
    "transform_events"
   ]
  },
  {
   "cell_type": "code",
   "execution_count": 301,
   "id": "d337742a",
   "metadata": {},
   "outputs": [
    {
     "data": {
      "text/html": [
       "<div>\n",
       "<style scoped>\n",
       "    .dataframe tbody tr th:only-of-type {\n",
       "        vertical-align: middle;\n",
       "    }\n",
       "\n",
       "    .dataframe tbody tr th {\n",
       "        vertical-align: top;\n",
       "    }\n",
       "\n",
       "    .dataframe thead th {\n",
       "        text-align: right;\n",
       "    }\n",
       "</style>\n",
       "<table border=\"1\" class=\"dataframe\">\n",
       "  <thead>\n",
       "    <tr style=\"text-align: right;\">\n",
       "      <th></th>\n",
       "      <th>Id</th>\n",
       "      <th>ParticipantID</th>\n",
       "      <th>EventID</th>\n",
       "      <th>RSVPStatusId</th>\n",
       "    </tr>\n",
       "  </thead>\n",
       "  <tbody>\n",
       "    <tr>\n",
       "      <th>0</th>\n",
       "      <td>PT_001</td>\n",
       "      <td>Rob Baltimore</td>\n",
       "      <td>Leaders and Partners Dinner</td>\n",
       "      <td>RSVP'd</td>\n",
       "    </tr>\n",
       "    <tr>\n",
       "      <th>1</th>\n",
       "      <td>PT_002</td>\n",
       "      <td>Brian Lucas</td>\n",
       "      <td>Leaders and Partners Dinner</td>\n",
       "      <td>Declined</td>\n",
       "    </tr>\n",
       "    <tr>\n",
       "      <th>2</th>\n",
       "      <td>PT_003</td>\n",
       "      <td>Luke Semple</td>\n",
       "      <td>Leaders and Partners Dinner</td>\n",
       "      <td>Checked In</td>\n",
       "    </tr>\n",
       "    <tr>\n",
       "      <th>3</th>\n",
       "      <td>PT_004</td>\n",
       "      <td>Andrew Spitzer</td>\n",
       "      <td>Leaders and Partners Dinner</td>\n",
       "      <td>No Show</td>\n",
       "    </tr>\n",
       "    <tr>\n",
       "      <th>4</th>\n",
       "      <td>PT_005</td>\n",
       "      <td>Derek Lewis</td>\n",
       "      <td>Leaders and Partners Dinner</td>\n",
       "      <td>Declined</td>\n",
       "    </tr>\n",
       "    <tr>\n",
       "      <th>...</th>\n",
       "      <td>...</td>\n",
       "      <td>...</td>\n",
       "      <td>...</td>\n",
       "      <td>...</td>\n",
       "    </tr>\n",
       "    <tr>\n",
       "      <th>105</th>\n",
       "      <td>PT_106</td>\n",
       "      <td>Greg Urban</td>\n",
       "      <td>2019 Market Re-Cap</td>\n",
       "      <td>Checked In</td>\n",
       "    </tr>\n",
       "    <tr>\n",
       "      <th>106</th>\n",
       "      <td>PT_107</td>\n",
       "      <td>Aftab Shahsingh</td>\n",
       "      <td>2019 Market Re-Cap</td>\n",
       "      <td>Checked In</td>\n",
       "    </tr>\n",
       "    <tr>\n",
       "      <th>107</th>\n",
       "      <td>PT_108</td>\n",
       "      <td>Brendan Ryan</td>\n",
       "      <td>2019 Market Re-Cap</td>\n",
       "      <td>Checked In</td>\n",
       "    </tr>\n",
       "    <tr>\n",
       "      <th>108</th>\n",
       "      <td>PT_109</td>\n",
       "      <td>Garrett DeNinno</td>\n",
       "      <td>2019 Market Re-Cap</td>\n",
       "      <td>Checked In</td>\n",
       "    </tr>\n",
       "    <tr>\n",
       "      <th>109</th>\n",
       "      <td>PT_110</td>\n",
       "      <td>Jon Steele</td>\n",
       "      <td>2019 Market Re-Cap</td>\n",
       "      <td>Checked In</td>\n",
       "    </tr>\n",
       "  </tbody>\n",
       "</table>\n",
       "<p>110 rows × 4 columns</p>\n",
       "</div>"
      ],
      "text/plain": [
       "         Id    ParticipantID                      EventID RSVPStatusId\n",
       "0    PT_001    Rob Baltimore  Leaders and Partners Dinner       RSVP'd\n",
       "1    PT_002      Brian Lucas  Leaders and Partners Dinner     Declined\n",
       "2    PT_003      Luke Semple  Leaders and Partners Dinner   Checked In\n",
       "3    PT_004   Andrew Spitzer  Leaders and Partners Dinner      No Show\n",
       "4    PT_005      Derek Lewis  Leaders and Partners Dinner     Declined\n",
       "..      ...              ...                          ...          ...\n",
       "105  PT_106       Greg Urban           2019 Market Re-Cap   Checked In\n",
       "106  PT_107  Aftab Shahsingh           2019 Market Re-Cap   Checked In\n",
       "107  PT_108     Brendan Ryan           2019 Market Re-Cap   Checked In\n",
       "108  PT_109  Garrett DeNinno           2019 Market Re-Cap   Checked In\n",
       "109  PT_110       Jon Steele           2019 Market Re-Cap   Checked In\n",
       "\n",
       "[110 rows x 4 columns]"
      ]
     },
     "execution_count": 301,
     "metadata": {},
     "output_type": "execute_result"
    }
   ],
   "source": [
    "transform_participants"
   ]
  },
  {
   "cell_type": "markdown",
   "id": "b6691d4d",
   "metadata": {},
   "source": [
    "# Export Companies Data"
   ]
  },
  {
   "cell_type": "code",
   "execution_count": 302,
   "id": "795c294c",
   "metadata": {},
   "outputs": [
    {
     "name": "stdout",
     "output_type": "stream",
     "text": [
      "Stored 'transform_events' (DataFrame)\n"
     ]
    }
   ],
   "source": [
    "%store transform_events"
   ]
  },
  {
   "cell_type": "code",
   "execution_count": 303,
   "id": "2e38170f",
   "metadata": {},
   "outputs": [
    {
     "name": "stdout",
     "output_type": "stream",
     "text": [
      "Stored 'transform_participants' (DataFrame)\n"
     ]
    }
   ],
   "source": [
    "%store transform_participants"
   ]
  }
 ],
 "metadata": {
  "kernelspec": {
   "display_name": "base",
   "language": "python",
   "name": "python3"
  },
  "language_info": {
   "codemirror_mode": {
    "name": "ipython",
    "version": 3
   },
   "file_extension": ".py",
   "mimetype": "text/x-python",
   "name": "python",
   "nbconvert_exporter": "python",
   "pygments_lexer": "ipython3",
   "version": "3.10.9"
  }
 },
 "nbformat": 4,
 "nbformat_minor": 5
}
