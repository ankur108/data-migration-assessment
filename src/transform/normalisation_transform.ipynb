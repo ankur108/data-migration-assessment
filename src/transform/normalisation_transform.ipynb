{
 "cells": [
  {
   "cell_type": "markdown",
   "id": "c8c50307",
   "metadata": {},
   "source": [
    "# Import Libraries"
   ]
  },
  {
   "cell_type": "code",
   "execution_count": null,
   "id": "3d8f97ef",
   "metadata": {},
   "outputs": [],
   "source": [
    "import pandas as pd"
   ]
  },
  {
   "cell_type": "code",
   "execution_count": null,
   "id": "f3d6852b",
   "metadata": {},
   "outputs": [],
   "source": [
    "#Display all columns in DataFrame\n",
    "pd.set_option('display.max_columns', None)"
   ]
  },
  {
   "cell_type": "markdown",
   "id": "1dc35eb9",
   "metadata": {},
   "source": [
    "# Importing All DataFrames"
   ]
  },
  {
   "cell_type": "code",
   "execution_count": null,
   "id": "43ebef43",
   "metadata": {},
   "outputs": [],
   "source": [
    "# Importing All Dimensional & Fact DataFrames\n",
    "\n",
    "%store -r company_transformed\n",
    "%store -r contact_transformed\n",
    "%store -r deal_transformed\n",
    "%store -r employees_transformed_df\n",
    "%store -r transform_events\n",
    "%store -r transform_participants\n",
    "\n",
    "#Importing All Reference DataFrames\n",
    "%store -r verticals_df\n",
    "%store -r subverticals_df\n",
    "%store -r status_df\n",
    "%store -r rsvp_status_df\n",
    "%store -r event_status_df\n",
    "%store -r event_type_df\n",
    "%store -r active_stage_df\n",
    "%store -r sourcing_df\n",
    "%store -r TransactionType_df"
   ]
  }
 ],
 "metadata": {
  "language_info": {
   "name": "python"
  }
 },
 "nbformat": 4,
 "nbformat_minor": 5
}
