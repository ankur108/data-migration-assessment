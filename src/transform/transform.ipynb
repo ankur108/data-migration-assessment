{
 "cells": [
  {
   "cell_type": "markdown",
   "id": "c9662b2d",
   "metadata": {},
   "source": [
    "# Import Libraries"
   ]
  },
  {
   "cell_type": "code",
   "execution_count": 814,
   "id": "97b619d2",
   "metadata": {},
   "outputs": [],
   "source": [
    "import pandas as pd"
   ]
  },
  {
   "cell_type": "markdown",
   "id": "7f2a0c00",
   "metadata": {},
   "source": [
    "# Load data"
   ]
  },
  {
   "cell_type": "code",
   "execution_count": 815,
   "id": "200b8bfd",
   "metadata": {},
   "outputs": [],
   "source": [
    "# Load the CSV files into DataFrames\n",
    "all_verticals_deals_df = pd.read_csv('/Users/ankur/Documents/GitHub/data-migration-assessment/data/raw/all_vertical_deals.csv')\n",
    "contacts_df = pd.read_csv('/Users/ankur/Documents/GitHub/data-migration-assessment/data/raw/contacts.csv')\n",
    "events_df = pd.read_csv('/Users/ankur/Documents/GitHub/data-migration-assessment/data/raw/events.csv')\n",
    "private_equity_companies_df = pd.read_csv('/Users/ankur/Documents/GitHub/data-migration-assessment/data/raw/private_equity_companies.csv')"
   ]
  },
  {
   "cell_type": "markdown",
   "id": "14c53a01",
   "metadata": {},
   "source": [
    "# Basic Data Profiling"
   ]
  },
  {
   "cell_type": "markdown",
   "id": "9472cb8b",
   "metadata": {},
   "source": [
    "### All Deals Verticals"
   ]
  },
  {
   "cell_type": "code",
   "execution_count": 816,
   "id": "1bd6ebfb",
   "metadata": {},
   "outputs": [
    {
     "data": {
      "text/html": [
       "<div>\n",
       "<style scoped>\n",
       "    .dataframe tbody tr th:only-of-type {\n",
       "        vertical-align: middle;\n",
       "    }\n",
       "\n",
       "    .dataframe tbody tr th {\n",
       "        vertical-align: top;\n",
       "    }\n",
       "\n",
       "    .dataframe thead th {\n",
       "        text-align: right;\n",
       "    }\n",
       "</style>\n",
       "<table border=\"1\" class=\"dataframe\">\n",
       "  <thead>\n",
       "    <tr style=\"text-align: right;\">\n",
       "      <th></th>\n",
       "      <th>Company Name</th>\n",
       "      <th>Project Name</th>\n",
       "      <th>Date Added</th>\n",
       "      <th>Invest. Bank</th>\n",
       "      <th>Banker</th>\n",
       "      <th>Sourcing</th>\n",
       "      <th>Transaction Type</th>\n",
       "      <th>LTM Revenue</th>\n",
       "      <th>LTM EBITDA</th>\n",
       "      <th>2014A EBITDA</th>\n",
       "      <th>...</th>\n",
       "      <th>Current Owner</th>\n",
       "      <th>Business Description</th>\n",
       "      <th>Lead MD</th>\n",
       "      <th>VerticalDepartment</th>\n",
       "      <th>Banker Email</th>\n",
       "      <th>Banker Phone Number</th>\n",
       "      <th>Est. Equity Investment</th>\n",
       "      <th>Portfolio Company Status</th>\n",
       "      <th>Active Stage</th>\n",
       "      <th>Passed Rationale</th>\n",
       "    </tr>\n",
       "  </thead>\n",
       "  <tbody>\n",
       "    <tr>\n",
       "      <th>0</th>\n",
       "      <td>Shermco</td>\n",
       "      <td>NaN</td>\n",
       "      <td>2018-02-02 00:00:00</td>\n",
       "      <td>Harris Williams</td>\n",
       "      <td>NaN</td>\n",
       "      <td>Auction</td>\n",
       "      <td>Sponsor to Sponsor</td>\n",
       "      <td>NaN</td>\n",
       "      <td>NaN</td>\n",
       "      <td>NaN</td>\n",
       "      <td>...</td>\n",
       "      <td>Oaktree</td>\n",
       "      <td>Electrical testing, maintenance, and commissio...</td>\n",
       "      <td>Jeannie Blackwood</td>\n",
       "      <td>Business Services</td>\n",
       "      <td>NaN</td>\n",
       "      <td>NaN</td>\n",
       "      <td>NaN</td>\n",
       "      <td>NaN</td>\n",
       "      <td>NaN</td>\n",
       "      <td>NaN</td>\n",
       "    </tr>\n",
       "    <tr>\n",
       "      <th>1</th>\n",
       "      <td>Kastle Systems</td>\n",
       "      <td>NaN</td>\n",
       "      <td>2018-02-02 00:00:00</td>\n",
       "      <td>NaN</td>\n",
       "      <td>NaN</td>\n",
       "      <td>Trusted Netwok</td>\n",
       "      <td>Sponsor to Sponsor</td>\n",
       "      <td>NaN</td>\n",
       "      <td>NaN</td>\n",
       "      <td>NaN</td>\n",
       "      <td>...</td>\n",
       "      <td>Venturehouse</td>\n",
       "      <td>Provider of comprehensive, turnkey security so...</td>\n",
       "      <td>Andrew Mah</td>\n",
       "      <td>Business Services</td>\n",
       "      <td>NaN</td>\n",
       "      <td>NaN</td>\n",
       "      <td>NaN</td>\n",
       "      <td>NaN</td>\n",
       "      <td>NaN</td>\n",
       "      <td>NaN</td>\n",
       "    </tr>\n",
       "    <tr>\n",
       "      <th>2</th>\n",
       "      <td>CLEAResult</td>\n",
       "      <td>NaN</td>\n",
       "      <td>2018-02-02 00:00:00</td>\n",
       "      <td>NaN</td>\n",
       "      <td>NaN</td>\n",
       "      <td>Trusted Netwok</td>\n",
       "      <td>Sponsor to Sponsor</td>\n",
       "      <td>NaN</td>\n",
       "      <td>NaN</td>\n",
       "      <td>NaN</td>\n",
       "      <td>...</td>\n",
       "      <td>General Atlantic</td>\n",
       "      <td>Provider of energy efficiency and demand manag...</td>\n",
       "      <td>Kripa Shah</td>\n",
       "      <td>Business Services</td>\n",
       "      <td>NaN</td>\n",
       "      <td>NaN</td>\n",
       "      <td>NaN</td>\n",
       "      <td>NaN</td>\n",
       "      <td>NaN</td>\n",
       "      <td>NaN</td>\n",
       "    </tr>\n",
       "    <tr>\n",
       "      <th>3</th>\n",
       "      <td>PLH</td>\n",
       "      <td>NaN</td>\n",
       "      <td>2018-02-02 00:00:00</td>\n",
       "      <td>Barclays</td>\n",
       "      <td>NaN</td>\n",
       "      <td>Auction</td>\n",
       "      <td>Sponsor to Sponsor</td>\n",
       "      <td>NaN</td>\n",
       "      <td>NaN</td>\n",
       "      <td>NaN</td>\n",
       "      <td>...</td>\n",
       "      <td>Energy Capital Partners</td>\n",
       "      <td>Specialty contractor serving the electric powe...</td>\n",
       "      <td>Russ Barner</td>\n",
       "      <td>Business Services</td>\n",
       "      <td>NaN</td>\n",
       "      <td>NaN</td>\n",
       "      <td>NaN</td>\n",
       "      <td>NaN</td>\n",
       "      <td>NaN</td>\n",
       "      <td>NaN</td>\n",
       "    </tr>\n",
       "    <tr>\n",
       "      <th>4</th>\n",
       "      <td>BBB Industries</td>\n",
       "      <td>NaN</td>\n",
       "      <td>2018-02-02 00:00:00</td>\n",
       "      <td>Baird, Jefferies</td>\n",
       "      <td>NaN</td>\n",
       "      <td>Auction</td>\n",
       "      <td>Sponsor to Sponsor</td>\n",
       "      <td>NaN</td>\n",
       "      <td>NaN</td>\n",
       "      <td>NaN</td>\n",
       "      <td>...</td>\n",
       "      <td>Pamplona</td>\n",
       "      <td>Provider of remanufactured replacement parts t...</td>\n",
       "      <td>Matthew Kordonowy</td>\n",
       "      <td>Business Services</td>\n",
       "      <td>NaN</td>\n",
       "      <td>NaN</td>\n",
       "      <td>NaN</td>\n",
       "      <td>NaN</td>\n",
       "      <td>NaN</td>\n",
       "      <td>NaN</td>\n",
       "    </tr>\n",
       "  </tbody>\n",
       "</table>\n",
       "<p>5 rows × 29 columns</p>\n",
       "</div>"
      ],
      "text/plain": [
       "     Company Name Project Name           Date Added      Invest. Bank Banker  \\\n",
       "0         Shermco          NaN  2018-02-02 00:00:00   Harris Williams    NaN   \n",
       "1  Kastle Systems          NaN  2018-02-02 00:00:00               NaN    NaN   \n",
       "2      CLEAResult          NaN  2018-02-02 00:00:00               NaN    NaN   \n",
       "3             PLH          NaN  2018-02-02 00:00:00          Barclays    NaN   \n",
       "4  BBB Industries          NaN  2018-02-02 00:00:00  Baird, Jefferies    NaN   \n",
       "\n",
       "         Sourcing    Transaction Type  LTM Revenue  LTM EBITDA 2014A EBITDA  \\\n",
       "0         Auction  Sponsor to Sponsor          NaN         NaN          NaN   \n",
       "1  Trusted Netwok  Sponsor to Sponsor          NaN         NaN          NaN   \n",
       "2  Trusted Netwok  Sponsor to Sponsor          NaN         NaN          NaN   \n",
       "3         Auction  Sponsor to Sponsor          NaN         NaN          NaN   \n",
       "4         Auction  Sponsor to Sponsor          NaN         NaN          NaN   \n",
       "\n",
       "   ...            Current Owner  \\\n",
       "0  ...                  Oaktree   \n",
       "1  ...             Venturehouse   \n",
       "2  ...         General Atlantic   \n",
       "3  ...  Energy Capital Partners   \n",
       "4  ...                 Pamplona   \n",
       "\n",
       "                                Business Description            Lead MD  \\\n",
       "0  Electrical testing, maintenance, and commissio...  Jeannie Blackwood   \n",
       "1  Provider of comprehensive, turnkey security so...         Andrew Mah   \n",
       "2  Provider of energy efficiency and demand manag...         Kripa Shah   \n",
       "3  Specialty contractor serving the electric powe...        Russ Barner   \n",
       "4  Provider of remanufactured replacement parts t...  Matthew Kordonowy   \n",
       "\n",
       "   VerticalDepartment Banker Email Banker Phone Number Est. Equity Investment  \\\n",
       "0   Business Services          NaN                 NaN                    NaN   \n",
       "1   Business Services          NaN                 NaN                    NaN   \n",
       "2   Business Services          NaN                 NaN                    NaN   \n",
       "3   Business Services          NaN                 NaN                    NaN   \n",
       "4   Business Services          NaN                 NaN                    NaN   \n",
       "\n",
       "   Portfolio Company Status Active Stage Passed Rationale  \n",
       "0                       NaN          NaN              NaN  \n",
       "1                       NaN          NaN              NaN  \n",
       "2                       NaN          NaN              NaN  \n",
       "3                       NaN          NaN              NaN  \n",
       "4                       NaN          NaN              NaN  \n",
       "\n",
       "[5 rows x 29 columns]"
      ]
     },
     "execution_count": 816,
     "metadata": {},
     "output_type": "execute_result"
    }
   ],
   "source": [
    "# Display the first few rows of each DataFrame to verify the data\n",
    "all_verticals_deals_df.head()"
   ]
  },
  {
   "cell_type": "code",
   "execution_count": 817,
   "id": "6700713b",
   "metadata": {},
   "outputs": [
    {
     "data": {
      "text/plain": [
       "(319, 29)"
      ]
     },
     "execution_count": 817,
     "metadata": {},
     "output_type": "execute_result"
    }
   ],
   "source": [
    "# Get the number of rows and columns\n",
    "all_verticals_deals_df.shape"
   ]
  },
  {
   "cell_type": "code",
   "execution_count": 818,
   "id": "a388ef4d",
   "metadata": {},
   "outputs": [
    {
     "data": {
      "text/plain": [
       "Index(['Company Name', 'Project Name', 'Date Added', 'Invest. Bank', 'Banker',\n",
       "       'Sourcing', 'Transaction Type', 'LTM Revenue', 'LTM EBITDA',\n",
       "       '2014A EBITDA', '2015A EBITDA', '2016A EBITDA', '2017A/E EBITDA',\n",
       "       '2018E EBITDA', 'Vertical', 'Sub Vertical', 'Enterprise Value',\n",
       "       'Equity Investment Est.', 'Status', 'Current Owner',\n",
       "       'Business Description', 'Lead MD', 'VerticalDepartment', 'Banker Email',\n",
       "       'Banker Phone Number', 'Est. Equity Investment',\n",
       "       'Portfolio Company Status', 'Active Stage', 'Passed Rationale'],\n",
       "      dtype='object')"
      ]
     },
     "execution_count": 818,
     "metadata": {},
     "output_type": "execute_result"
    }
   ],
   "source": [
    "# Get a list of all the columns in the dataframe\n",
    "all_verticals_deals_df.columns"
   ]
  },
  {
   "cell_type": "code",
   "execution_count": 819,
   "id": "6e8314b2",
   "metadata": {},
   "outputs": [
    {
     "data": {
      "text/plain": [
       "Company Name                 object\n",
       "Project Name                 object\n",
       "Date Added                   object\n",
       "Invest. Bank                 object\n",
       "Banker                       object\n",
       "Sourcing                     object\n",
       "Transaction Type             object\n",
       "LTM Revenue                 float64\n",
       "LTM EBITDA                  float64\n",
       "2014A EBITDA                 object\n",
       "2015A EBITDA                 object\n",
       "2016A EBITDA                 object\n",
       "2017A/E EBITDA               object\n",
       "2018E EBITDA                float64\n",
       "Vertical                     object\n",
       "Sub Vertical                 object\n",
       "Enterprise Value             object\n",
       "Equity Investment Est.      float64\n",
       "Status                       object\n",
       "Current Owner                object\n",
       "Business Description         object\n",
       "Lead MD                      object\n",
       "VerticalDepartment           object\n",
       "Banker Email                 object\n",
       "Banker Phone Number          object\n",
       "Est. Equity Investment      float64\n",
       "Portfolio Company Status     object\n",
       "Active Stage                 object\n",
       "Passed Rationale             object\n",
       "dtype: object"
      ]
     },
     "execution_count": 819,
     "metadata": {},
     "output_type": "execute_result"
    }
   ],
   "source": [
    "# List the data types of each column\n",
    "all_verticals_deals_df.dtypes"
   ]
  },
  {
   "cell_type": "code",
   "execution_count": 820,
   "id": "5d220b54",
   "metadata": {},
   "outputs": [
    {
     "data": {
      "text/html": [
       "<div>\n",
       "<style scoped>\n",
       "    .dataframe tbody tr th:only-of-type {\n",
       "        vertical-align: middle;\n",
       "    }\n",
       "\n",
       "    .dataframe tbody tr th {\n",
       "        vertical-align: top;\n",
       "    }\n",
       "\n",
       "    .dataframe thead th {\n",
       "        text-align: right;\n",
       "    }\n",
       "</style>\n",
       "<table border=\"1\" class=\"dataframe\">\n",
       "  <thead>\n",
       "    <tr style=\"text-align: right;\">\n",
       "      <th></th>\n",
       "      <th>LTM Revenue</th>\n",
       "      <th>LTM EBITDA</th>\n",
       "      <th>2018E EBITDA</th>\n",
       "      <th>Equity Investment Est.</th>\n",
       "      <th>Est. Equity Investment</th>\n",
       "    </tr>\n",
       "  </thead>\n",
       "  <tbody>\n",
       "    <tr>\n",
       "      <th>count</th>\n",
       "      <td>8.000000</td>\n",
       "      <td>183.000000</td>\n",
       "      <td>2.000000</td>\n",
       "      <td>52.000000</td>\n",
       "      <td>5.000000</td>\n",
       "    </tr>\n",
       "    <tr>\n",
       "      <th>mean</th>\n",
       "      <td>393.275000</td>\n",
       "      <td>66.419277</td>\n",
       "      <td>45.000000</td>\n",
       "      <td>327.095192</td>\n",
       "      <td>421.200000</td>\n",
       "    </tr>\n",
       "    <tr>\n",
       "      <th>std</th>\n",
       "      <td>493.155947</td>\n",
       "      <td>77.957506</td>\n",
       "      <td>21.213203</td>\n",
       "      <td>241.386489</td>\n",
       "      <td>295.625946</td>\n",
       "    </tr>\n",
       "    <tr>\n",
       "      <th>min</th>\n",
       "      <td>16.200000</td>\n",
       "      <td>-23.000000</td>\n",
       "      <td>30.000000</td>\n",
       "      <td>18.200000</td>\n",
       "      <td>45.000000</td>\n",
       "    </tr>\n",
       "    <tr>\n",
       "      <th>25%</th>\n",
       "      <td>65.250000</td>\n",
       "      <td>21.950000</td>\n",
       "      <td>37.500000</td>\n",
       "      <td>138.625000</td>\n",
       "      <td>198.000000</td>\n",
       "    </tr>\n",
       "    <tr>\n",
       "      <th>50%</th>\n",
       "      <td>208.600000</td>\n",
       "      <td>41.000000</td>\n",
       "      <td>45.000000</td>\n",
       "      <td>250.000000</td>\n",
       "      <td>494.000000</td>\n",
       "    </tr>\n",
       "    <tr>\n",
       "      <th>75%</th>\n",
       "      <td>548.350000</td>\n",
       "      <td>74.500000</td>\n",
       "      <td>52.500000</td>\n",
       "      <td>473.750000</td>\n",
       "      <td>600.000000</td>\n",
       "    </tr>\n",
       "    <tr>\n",
       "      <th>max</th>\n",
       "      <td>1490.000000</td>\n",
       "      <td>515.000000</td>\n",
       "      <td>60.000000</td>\n",
       "      <td>1025.000000</td>\n",
       "      <td>769.000000</td>\n",
       "    </tr>\n",
       "  </tbody>\n",
       "</table>\n",
       "</div>"
      ],
      "text/plain": [
       "       LTM Revenue  LTM EBITDA  2018E EBITDA  Equity Investment Est.  \\\n",
       "count     8.000000  183.000000      2.000000               52.000000   \n",
       "mean    393.275000   66.419277     45.000000              327.095192   \n",
       "std     493.155947   77.957506     21.213203              241.386489   \n",
       "min      16.200000  -23.000000     30.000000               18.200000   \n",
       "25%      65.250000   21.950000     37.500000              138.625000   \n",
       "50%     208.600000   41.000000     45.000000              250.000000   \n",
       "75%     548.350000   74.500000     52.500000              473.750000   \n",
       "max    1490.000000  515.000000     60.000000             1025.000000   \n",
       "\n",
       "       Est. Equity Investment  \n",
       "count                5.000000  \n",
       "mean               421.200000  \n",
       "std                295.625946  \n",
       "min                 45.000000  \n",
       "25%                198.000000  \n",
       "50%                494.000000  \n",
       "75%                600.000000  \n",
       "max                769.000000  "
      ]
     },
     "execution_count": 820,
     "metadata": {},
     "output_type": "execute_result"
    }
   ],
   "source": [
    "# Display descriptive statistics for the DataFrame\n",
    "all_verticals_deals_df.describe()"
   ]
  },
  {
   "cell_type": "markdown",
   "id": "ff79371d",
   "metadata": {},
   "source": [
    "### Contacts"
   ]
  },
  {
   "cell_type": "code",
   "execution_count": 821,
   "id": "70560316",
   "metadata": {},
   "outputs": [
    {
     "data": {
      "text/html": [
       "<div>\n",
       "<style scoped>\n",
       "    .dataframe tbody tr th:only-of-type {\n",
       "        vertical-align: middle;\n",
       "    }\n",
       "\n",
       "    .dataframe tbody tr th {\n",
       "        vertical-align: top;\n",
       "    }\n",
       "\n",
       "    .dataframe thead th {\n",
       "        text-align: right;\n",
       "    }\n",
       "</style>\n",
       "<table border=\"1\" class=\"dataframe\">\n",
       "  <thead>\n",
       "    <tr style=\"text-align: right;\">\n",
       "      <th></th>\n",
       "      <th>Firm</th>\n",
       "      <th>Name</th>\n",
       "      <th>Title</th>\n",
       "      <th>Group</th>\n",
       "      <th>Sub-Vertical</th>\n",
       "      <th>E-mail</th>\n",
       "      <th>Phone</th>\n",
       "      <th>Secondary Phone</th>\n",
       "      <th>City</th>\n",
       "      <th>Birthday</th>\n",
       "      <th>Coverage Person</th>\n",
       "      <th>Preferred Contact Method</th>\n",
       "    </tr>\n",
       "  </thead>\n",
       "  <tbody>\n",
       "    <tr>\n",
       "      <th>0</th>\n",
       "      <td>Harris Williams</td>\n",
       "      <td>Robert Baltimore</td>\n",
       "      <td>Managing Director</td>\n",
       "      <td>Business Services</td>\n",
       "      <td>Business Services</td>\n",
       "      <td>BBaltimore@harriswilliams.com</td>\n",
       "      <td>(804) 648-0072</td>\n",
       "      <td>NaN</td>\n",
       "      <td>Richmond, VA</td>\n",
       "      <td>2/25/1966</td>\n",
       "      <td>Hannah Jumper</td>\n",
       "      <td>Email</td>\n",
       "    </tr>\n",
       "    <tr>\n",
       "      <th>1</th>\n",
       "      <td>Harris Williams</td>\n",
       "      <td>Brian Lucas</td>\n",
       "      <td>Managing Director</td>\n",
       "      <td>Business Services</td>\n",
       "      <td>Business Services</td>\n",
       "      <td>blucas@harriswilliams.com</td>\n",
       "      <td>(804) 648-0072</td>\n",
       "      <td>NaN</td>\n",
       "      <td>Richmond, VA</td>\n",
       "      <td>9/3/1953</td>\n",
       "      <td>Kripa Shah</td>\n",
       "      <td>Business Phone</td>\n",
       "    </tr>\n",
       "    <tr>\n",
       "      <th>2</th>\n",
       "      <td>Harris Williams</td>\n",
       "      <td>Luke Semple</td>\n",
       "      <td>Managing Director</td>\n",
       "      <td>Business Services</td>\n",
       "      <td>Business Services</td>\n",
       "      <td>lsemple@harriswilliams.com</td>\n",
       "      <td>(804) 648-0072</td>\n",
       "      <td>NaN</td>\n",
       "      <td>Richmond, VA</td>\n",
       "      <td>3/27/1962</td>\n",
       "      <td>Emily Royal</td>\n",
       "      <td>Cell Phone</td>\n",
       "    </tr>\n",
       "    <tr>\n",
       "      <th>3</th>\n",
       "      <td>Harris Williams</td>\n",
       "      <td>Drew Spitzer</td>\n",
       "      <td>Managing Director</td>\n",
       "      <td>Business Services</td>\n",
       "      <td>Business Services</td>\n",
       "      <td>aspitzer@harriswilliams.com</td>\n",
       "      <td>(804) 648-0072</td>\n",
       "      <td>NaN</td>\n",
       "      <td>Richmond, VA</td>\n",
       "      <td>4/28/1964</td>\n",
       "      <td>Russ Barner</td>\n",
       "      <td>Business Phone</td>\n",
       "    </tr>\n",
       "    <tr>\n",
       "      <th>4</th>\n",
       "      <td>Harris Williams</td>\n",
       "      <td>Derek Lewis</td>\n",
       "      <td>Managing Director</td>\n",
       "      <td>Business Services</td>\n",
       "      <td>Business Services</td>\n",
       "      <td>dlewis@harriswilliams.com</td>\n",
       "      <td>(804) 648-0072</td>\n",
       "      <td>NaN</td>\n",
       "      <td>Richmond, VA</td>\n",
       "      <td>4/24/1971</td>\n",
       "      <td>Daniel Ding</td>\n",
       "      <td>Cell Phone</td>\n",
       "    </tr>\n",
       "  </tbody>\n",
       "</table>\n",
       "</div>"
      ],
      "text/plain": [
       "              Firm              Name              Title              Group  \\\n",
       "0  Harris Williams  Robert Baltimore  Managing Director  Business Services   \n",
       "1  Harris Williams       Brian Lucas  Managing Director  Business Services   \n",
       "2  Harris Williams       Luke Semple  Managing Director  Business Services   \n",
       "3  Harris Williams      Drew Spitzer  Managing Director  Business Services   \n",
       "4  Harris Williams       Derek Lewis  Managing Director  Business Services   \n",
       "\n",
       "        Sub-Vertical                         E-mail           Phone  \\\n",
       "0  Business Services  BBaltimore@harriswilliams.com  (804) 648-0072   \n",
       "1  Business Services      blucas@harriswilliams.com  (804) 648-0072   \n",
       "2  Business Services     lsemple@harriswilliams.com  (804) 648-0072   \n",
       "3  Business Services    aspitzer@harriswilliams.com  (804) 648-0072   \n",
       "4  Business Services      dlewis@harriswilliams.com  (804) 648-0072   \n",
       "\n",
       "  Secondary Phone          City   Birthday Coverage Person  \\\n",
       "0             NaN  Richmond, VA  2/25/1966   Hannah Jumper   \n",
       "1             NaN  Richmond, VA   9/3/1953      Kripa Shah   \n",
       "2             NaN  Richmond, VA  3/27/1962     Emily Royal   \n",
       "3             NaN  Richmond, VA  4/28/1964     Russ Barner   \n",
       "4             NaN  Richmond, VA  4/24/1971     Daniel Ding   \n",
       "\n",
       "  Preferred Contact Method  \n",
       "0                    Email  \n",
       "1           Business Phone  \n",
       "2               Cell Phone  \n",
       "3           Business Phone  \n",
       "4               Cell Phone  "
      ]
     },
     "execution_count": 821,
     "metadata": {},
     "output_type": "execute_result"
    }
   ],
   "source": [
    "# Display the first few rows of the contacts DataFrame\n",
    "contacts_df.head()"
   ]
  },
  {
   "cell_type": "code",
   "execution_count": 822,
   "id": "2ca0c66b",
   "metadata": {},
   "outputs": [
    {
     "data": {
      "text/plain": [
       "(311, 12)"
      ]
     },
     "execution_count": 822,
     "metadata": {},
     "output_type": "execute_result"
    }
   ],
   "source": [
    "# Get the number of rows and columns in the contacts DataFrame\n",
    "contacts_df.shape"
   ]
  },
  {
   "cell_type": "code",
   "execution_count": 823,
   "id": "f18c3ce8",
   "metadata": {},
   "outputs": [
    {
     "data": {
      "text/plain": [
       "Index(['Firm', 'Name', 'Title', 'Group', 'Sub-Vertical', 'E-mail', 'Phone',\n",
       "       'Secondary Phone', 'City', 'Birthday', 'Coverage Person',\n",
       "       'Preferred Contact Method'],\n",
       "      dtype='object')"
      ]
     },
     "execution_count": 823,
     "metadata": {},
     "output_type": "execute_result"
    }
   ],
   "source": [
    "# Get a list of all the columns in the contacts DataFrame\n",
    "contacts_df.columns"
   ]
  },
  {
   "cell_type": "code",
   "execution_count": 824,
   "id": "e24187db",
   "metadata": {},
   "outputs": [
    {
     "data": {
      "text/plain": [
       "Firm                        object\n",
       "Name                        object\n",
       "Title                       object\n",
       "Group                       object\n",
       "Sub-Vertical                object\n",
       "E-mail                      object\n",
       "Phone                       object\n",
       "Secondary Phone             object\n",
       "City                        object\n",
       "Birthday                    object\n",
       "Coverage Person             object\n",
       "Preferred Contact Method    object\n",
       "dtype: object"
      ]
     },
     "execution_count": 824,
     "metadata": {},
     "output_type": "execute_result"
    }
   ],
   "source": [
    "# List the data types of each column in the contacts DataFrame\n",
    "contacts_df.dtypes"
   ]
  },
  {
   "cell_type": "code",
   "execution_count": 825,
   "id": "7a9c95a5",
   "metadata": {},
   "outputs": [
    {
     "data": {
      "text/html": [
       "<div>\n",
       "<style scoped>\n",
       "    .dataframe tbody tr th:only-of-type {\n",
       "        vertical-align: middle;\n",
       "    }\n",
       "\n",
       "    .dataframe tbody tr th {\n",
       "        vertical-align: top;\n",
       "    }\n",
       "\n",
       "    .dataframe thead th {\n",
       "        text-align: right;\n",
       "    }\n",
       "</style>\n",
       "<table border=\"1\" class=\"dataframe\">\n",
       "  <thead>\n",
       "    <tr style=\"text-align: right;\">\n",
       "      <th></th>\n",
       "      <th>Firm</th>\n",
       "      <th>Name</th>\n",
       "      <th>Title</th>\n",
       "      <th>Group</th>\n",
       "      <th>Sub-Vertical</th>\n",
       "      <th>E-mail</th>\n",
       "      <th>Phone</th>\n",
       "      <th>Secondary Phone</th>\n",
       "      <th>City</th>\n",
       "      <th>Birthday</th>\n",
       "      <th>Coverage Person</th>\n",
       "      <th>Preferred Contact Method</th>\n",
       "    </tr>\n",
       "  </thead>\n",
       "  <tbody>\n",
       "    <tr>\n",
       "      <th>count</th>\n",
       "      <td>311</td>\n",
       "      <td>311</td>\n",
       "      <td>311</td>\n",
       "      <td>311</td>\n",
       "      <td>311</td>\n",
       "      <td>311</td>\n",
       "      <td>285</td>\n",
       "      <td>7</td>\n",
       "      <td>311</td>\n",
       "      <td>311</td>\n",
       "      <td>311</td>\n",
       "      <td>311</td>\n",
       "    </tr>\n",
       "    <tr>\n",
       "      <th>unique</th>\n",
       "      <td>25</td>\n",
       "      <td>311</td>\n",
       "      <td>86</td>\n",
       "      <td>9</td>\n",
       "      <td>23</td>\n",
       "      <td>311</td>\n",
       "      <td>280</td>\n",
       "      <td>7</td>\n",
       "      <td>15</td>\n",
       "      <td>307</td>\n",
       "      <td>6</td>\n",
       "      <td>3</td>\n",
       "    </tr>\n",
       "    <tr>\n",
       "      <th>top</th>\n",
       "      <td>Morgan Stanely</td>\n",
       "      <td>Robert Baltimore</td>\n",
       "      <td>Managing Director</td>\n",
       "      <td>Financial Services</td>\n",
       "      <td>Business Services</td>\n",
       "      <td>BBaltimore@harriswilliams.com</td>\n",
       "      <td>(804) 648-0072</td>\n",
       "      <td>(917) 304-8472</td>\n",
       "      <td>New York, NY</td>\n",
       "      <td>2/24/1956</td>\n",
       "      <td>Hannah Jumper</td>\n",
       "      <td>Cell Phone</td>\n",
       "    </tr>\n",
       "    <tr>\n",
       "      <th>freq</th>\n",
       "      <td>30</td>\n",
       "      <td>1</td>\n",
       "      <td>158</td>\n",
       "      <td>139</td>\n",
       "      <td>48</td>\n",
       "      <td>1</td>\n",
       "      <td>6</td>\n",
       "      <td>1</td>\n",
       "      <td>228</td>\n",
       "      <td>2</td>\n",
       "      <td>55</td>\n",
       "      <td>155</td>\n",
       "    </tr>\n",
       "  </tbody>\n",
       "</table>\n",
       "</div>"
      ],
      "text/plain": [
       "                  Firm              Name              Title  \\\n",
       "count              311               311                311   \n",
       "unique              25               311                 86   \n",
       "top     Morgan Stanely  Robert Baltimore  Managing Director   \n",
       "freq                30                 1                158   \n",
       "\n",
       "                     Group       Sub-Vertical                         E-mail  \\\n",
       "count                  311                311                            311   \n",
       "unique                   9                 23                            311   \n",
       "top     Financial Services  Business Services  BBaltimore@harriswilliams.com   \n",
       "freq                   139                 48                              1   \n",
       "\n",
       "                 Phone Secondary Phone          City   Birthday  \\\n",
       "count              285               7           311        311   \n",
       "unique             280               7            15        307   \n",
       "top     (804) 648-0072  (917) 304-8472  New York, NY  2/24/1956   \n",
       "freq                 6               1           228          2   \n",
       "\n",
       "       Coverage Person Preferred Contact Method  \n",
       "count              311                      311  \n",
       "unique               6                        3  \n",
       "top      Hannah Jumper               Cell Phone  \n",
       "freq                55                      155  "
      ]
     },
     "execution_count": 825,
     "metadata": {},
     "output_type": "execute_result"
    }
   ],
   "source": [
    "# Display descriptive statistics for the DataFrame\n",
    "contacts_df.describe()"
   ]
  },
  {
   "cell_type": "markdown",
   "id": "4e0f64af",
   "metadata": {},
   "source": [
    "### Events"
   ]
  },
  {
   "cell_type": "code",
   "execution_count": 826,
   "id": "8902ed3a",
   "metadata": {},
   "outputs": [
    {
     "data": {
      "text/html": [
       "<div>\n",
       "<style scoped>\n",
       "    .dataframe tbody tr th:only-of-type {\n",
       "        vertical-align: middle;\n",
       "    }\n",
       "\n",
       "    .dataframe tbody tr th {\n",
       "        vertical-align: top;\n",
       "    }\n",
       "\n",
       "    .dataframe thead th {\n",
       "        text-align: right;\n",
       "    }\n",
       "</style>\n",
       "<table border=\"1\" class=\"dataframe\">\n",
       "  <thead>\n",
       "    <tr style=\"text-align: right;\">\n",
       "      <th></th>\n",
       "      <th>Name</th>\n",
       "      <th>E-mail</th>\n",
       "      <th>Attendee Status</th>\n",
       "      <th>EventType</th>\n",
       "    </tr>\n",
       "  </thead>\n",
       "  <tbody>\n",
       "    <tr>\n",
       "      <th>0</th>\n",
       "      <td>Rob Baltimore</td>\n",
       "      <td>BBaltimore@harriswilliams.com</td>\n",
       "      <td>RSVP'd</td>\n",
       "      <td>Leaders and Partners Dinner</td>\n",
       "    </tr>\n",
       "    <tr>\n",
       "      <th>1</th>\n",
       "      <td>Brian Lucas</td>\n",
       "      <td>blucas@harriswilliams.com</td>\n",
       "      <td>Declined</td>\n",
       "      <td>Leaders and Partners Dinner</td>\n",
       "    </tr>\n",
       "    <tr>\n",
       "      <th>2</th>\n",
       "      <td>Luke Semple</td>\n",
       "      <td>lsemple@harriswilliams.com</td>\n",
       "      <td>Checked In</td>\n",
       "      <td>Leaders and Partners Dinner</td>\n",
       "    </tr>\n",
       "    <tr>\n",
       "      <th>3</th>\n",
       "      <td>Andrew Spitzer</td>\n",
       "      <td>aspitzer@harriswilliams.com</td>\n",
       "      <td>No Show</td>\n",
       "      <td>Leaders and Partners Dinner</td>\n",
       "    </tr>\n",
       "    <tr>\n",
       "      <th>4</th>\n",
       "      <td>Derek Lewis</td>\n",
       "      <td>dlewis@harriswilliams.com</td>\n",
       "      <td>Declined</td>\n",
       "      <td>Leaders and Partners Dinner</td>\n",
       "    </tr>\n",
       "  </tbody>\n",
       "</table>\n",
       "</div>"
      ],
      "text/plain": [
       "             Name                         E-mail Attendee Status  \\\n",
       "0   Rob Baltimore  BBaltimore@harriswilliams.com          RSVP'd   \n",
       "1     Brian Lucas      blucas@harriswilliams.com        Declined   \n",
       "2     Luke Semple     lsemple@harriswilliams.com      Checked In   \n",
       "3  Andrew Spitzer    aspitzer@harriswilliams.com         No Show   \n",
       "4     Derek Lewis      dlewis@harriswilliams.com        Declined   \n",
       "\n",
       "                     EventType  \n",
       "0  Leaders and Partners Dinner  \n",
       "1  Leaders and Partners Dinner  \n",
       "2  Leaders and Partners Dinner  \n",
       "3  Leaders and Partners Dinner  \n",
       "4  Leaders and Partners Dinner  "
      ]
     },
     "execution_count": 826,
     "metadata": {},
     "output_type": "execute_result"
    }
   ],
   "source": [
    "# Display the first few rows of the events DataFrame\n",
    "events_df.head()"
   ]
  },
  {
   "cell_type": "code",
   "execution_count": 827,
   "id": "fd746cb8",
   "metadata": {},
   "outputs": [
    {
     "data": {
      "text/plain": [
       "(110, 4)"
      ]
     },
     "execution_count": 827,
     "metadata": {},
     "output_type": "execute_result"
    }
   ],
   "source": [
    "# Get the number of rows and columns in the events DataFrame\n",
    "events_df.shape"
   ]
  },
  {
   "cell_type": "code",
   "execution_count": 828,
   "id": "bf0fa698",
   "metadata": {},
   "outputs": [
    {
     "data": {
      "text/plain": [
       "Index(['Name', 'E-mail', 'Attendee Status', 'EventType'], dtype='object')"
      ]
     },
     "execution_count": 828,
     "metadata": {},
     "output_type": "execute_result"
    }
   ],
   "source": [
    "# Get a list of all the columns in the events DataFrame\n",
    "events_df.columns"
   ]
  },
  {
   "cell_type": "code",
   "execution_count": 829,
   "id": "eddcb249",
   "metadata": {},
   "outputs": [
    {
     "data": {
      "text/plain": [
       "Name               object\n",
       "E-mail             object\n",
       "Attendee Status    object\n",
       "EventType          object\n",
       "dtype: object"
      ]
     },
     "execution_count": 829,
     "metadata": {},
     "output_type": "execute_result"
    }
   ],
   "source": [
    "# List the data types of each column in the events DataFrame\n",
    "events_df.dtypes"
   ]
  },
  {
   "cell_type": "code",
   "execution_count": 830,
   "id": "4364df85",
   "metadata": {},
   "outputs": [
    {
     "data": {
      "text/html": [
       "<div>\n",
       "<style scoped>\n",
       "    .dataframe tbody tr th:only-of-type {\n",
       "        vertical-align: middle;\n",
       "    }\n",
       "\n",
       "    .dataframe tbody tr th {\n",
       "        vertical-align: top;\n",
       "    }\n",
       "\n",
       "    .dataframe thead th {\n",
       "        text-align: right;\n",
       "    }\n",
       "</style>\n",
       "<table border=\"1\" class=\"dataframe\">\n",
       "  <thead>\n",
       "    <tr style=\"text-align: right;\">\n",
       "      <th></th>\n",
       "      <th>Name</th>\n",
       "      <th>E-mail</th>\n",
       "      <th>Attendee Status</th>\n",
       "      <th>EventType</th>\n",
       "    </tr>\n",
       "  </thead>\n",
       "  <tbody>\n",
       "    <tr>\n",
       "      <th>count</th>\n",
       "      <td>110</td>\n",
       "      <td>110</td>\n",
       "      <td>110</td>\n",
       "      <td>110</td>\n",
       "    </tr>\n",
       "    <tr>\n",
       "      <th>unique</th>\n",
       "      <td>71</td>\n",
       "      <td>71</td>\n",
       "      <td>4</td>\n",
       "      <td>2</td>\n",
       "    </tr>\n",
       "    <tr>\n",
       "      <th>top</th>\n",
       "      <td>Jeff Pranaitis</td>\n",
       "      <td>JPranaitis@jefferies.com</td>\n",
       "      <td>Checked In</td>\n",
       "      <td>Leaders and Partners Dinner</td>\n",
       "    </tr>\n",
       "    <tr>\n",
       "      <th>freq</th>\n",
       "      <td>2</td>\n",
       "      <td>2</td>\n",
       "      <td>46</td>\n",
       "      <td>71</td>\n",
       "    </tr>\n",
       "  </tbody>\n",
       "</table>\n",
       "</div>"
      ],
      "text/plain": [
       "                  Name                    E-mail Attendee Status  \\\n",
       "count              110                       110             110   \n",
       "unique              71                        71               4   \n",
       "top     Jeff Pranaitis  JPranaitis@jefferies.com      Checked In   \n",
       "freq                 2                         2              46   \n",
       "\n",
       "                          EventType  \n",
       "count                           110  \n",
       "unique                            2  \n",
       "top     Leaders and Partners Dinner  \n",
       "freq                             71  "
      ]
     },
     "execution_count": 830,
     "metadata": {},
     "output_type": "execute_result"
    }
   ],
   "source": [
    "# Display descriptive statistics for the DataFrame\n",
    "events_df.describe()"
   ]
  },
  {
   "cell_type": "markdown",
   "id": "faff2857",
   "metadata": {},
   "source": [
    "### Private Equity Companies"
   ]
  },
  {
   "cell_type": "code",
   "execution_count": 831,
   "id": "cf389bf8",
   "metadata": {},
   "outputs": [
    {
     "data": {
      "text/html": [
       "<div>\n",
       "<style scoped>\n",
       "    .dataframe tbody tr th:only-of-type {\n",
       "        vertical-align: middle;\n",
       "    }\n",
       "\n",
       "    .dataframe tbody tr th {\n",
       "        vertical-align: top;\n",
       "    }\n",
       "\n",
       "    .dataframe thead th {\n",
       "        text-align: right;\n",
       "    }\n",
       "</style>\n",
       "<table border=\"1\" class=\"dataframe\">\n",
       "  <thead>\n",
       "    <tr style=\"text-align: right;\">\n",
       "      <th></th>\n",
       "      <th>Priority</th>\n",
       "      <th>Company Name</th>\n",
       "      <th>Website</th>\n",
       "      <th>AUM\\n(Bns)</th>\n",
       "      <th>Sectors</th>\n",
       "      <th>Sample Portfolio Companies</th>\n",
       "      <th>Contact Name 1</th>\n",
       "      <th>Contact 2</th>\n",
       "      <th>Comments</th>\n",
       "    </tr>\n",
       "  </thead>\n",
       "  <tbody>\n",
       "    <tr>\n",
       "      <th>0</th>\n",
       "      <td>NaN</td>\n",
       "      <td>NaN</td>\n",
       "      <td>NaN</td>\n",
       "      <td>NaN</td>\n",
       "      <td>NaN</td>\n",
       "      <td>NaN</td>\n",
       "      <td>NaN</td>\n",
       "      <td>NaN</td>\n",
       "      <td>NaN</td>\n",
       "    </tr>\n",
       "    <tr>\n",
       "      <th>1</th>\n",
       "      <td>NaN</td>\n",
       "      <td>AEA Investors LP</td>\n",
       "      <td>www.aeainvestors.com</td>\n",
       "      <td>10.0</td>\n",
       "      <td>- Consumer products\\n- Industrial</td>\n",
       "      <td>- Traeger (Current)\\n- Barnet (Cosmetic)</td>\n",
       "      <td>Martin Eltrich, III, Partner</td>\n",
       "      <td>NaN</td>\n",
       "      <td>NaN</td>\n",
       "    </tr>\n",
       "    <tr>\n",
       "      <th>2</th>\n",
       "      <td>NaN</td>\n",
       "      <td>Audax Private Equity</td>\n",
       "      <td>www.audaxprivateequity.com</td>\n",
       "      <td>11.5</td>\n",
       "      <td>- Industrial</td>\n",
       "      <td>- Chem Specialty Chemicals</td>\n",
       "      <td>Christopher Satti, Business Dev\\n(857) 294-6640</td>\n",
       "      <td>NaN</td>\n",
       "      <td>- We have experience with specialty chemicals ...</td>\n",
       "    </tr>\n",
       "    <tr>\n",
       "      <th>3</th>\n",
       "      <td>NaN</td>\n",
       "      <td>CCMP Capital</td>\n",
       "      <td>www.ccmpcapital.com</td>\n",
       "      <td>12.0</td>\n",
       "      <td>- Consumer products\\n- Industrial</td>\n",
       "      <td>- Jetro Cash &amp; Carry\\n- Shoes for Crews</td>\n",
       "      <td>Richard Zannino</td>\n",
       "      <td>Will Jaudes \\nPrincipal</td>\n",
       "      <td>- Are big on Consumer and industrial</td>\n",
       "    </tr>\n",
       "    <tr>\n",
       "      <th>4</th>\n",
       "      <td>NaN</td>\n",
       "      <td>Clayton Dubilier &amp; Rice</td>\n",
       "      <td>www.cdr-inc.com</td>\n",
       "      <td>18.0</td>\n",
       "      <td>- Consumer products\\n- Industrial</td>\n",
       "      <td>- Roofing Supply Group\\n- US Foods\\n- HD Supply</td>\n",
       "      <td>NaN</td>\n",
       "      <td>NaN</td>\n",
       "      <td>NaN</td>\n",
       "    </tr>\n",
       "  </tbody>\n",
       "</table>\n",
       "</div>"
      ],
      "text/plain": [
       "   Priority             Company Name                     Website  AUM\\n(Bns)  \\\n",
       "0       NaN                      NaN                         NaN         NaN   \n",
       "1       NaN         AEA Investors LP        www.aeainvestors.com        10.0   \n",
       "2       NaN     Audax Private Equity  www.audaxprivateequity.com        11.5   \n",
       "3       NaN             CCMP Capital         www.ccmpcapital.com        12.0   \n",
       "4       NaN  Clayton Dubilier & Rice             www.cdr-inc.com        18.0   \n",
       "\n",
       "                             Sectors  \\\n",
       "0                                NaN   \n",
       "1  - Consumer products\\n- Industrial   \n",
       "2                       - Industrial   \n",
       "3  - Consumer products\\n- Industrial   \n",
       "4  - Consumer products\\n- Industrial   \n",
       "\n",
       "                        Sample Portfolio Companies  \\\n",
       "0                                              NaN   \n",
       "1         - Traeger (Current)\\n- Barnet (Cosmetic)   \n",
       "2                       - Chem Specialty Chemicals   \n",
       "3          - Jetro Cash & Carry\\n- Shoes for Crews   \n",
       "4  - Roofing Supply Group\\n- US Foods\\n- HD Supply   \n",
       "\n",
       "                                    Contact Name 1                  Contact 2  \\\n",
       "0                                              NaN                        NaN   \n",
       "1                     Martin Eltrich, III, Partner                        NaN   \n",
       "2  Christopher Satti, Business Dev\\n(857) 294-6640                        NaN   \n",
       "3                                  Richard Zannino  Will Jaudes \\nPrincipal     \n",
       "4                                              NaN                        NaN   \n",
       "\n",
       "                                            Comments  \n",
       "0                                                NaN  \n",
       "1                                                NaN  \n",
       "2  - We have experience with specialty chemicals ...  \n",
       "3               - Are big on Consumer and industrial  \n",
       "4                                                NaN  "
      ]
     },
     "execution_count": 831,
     "metadata": {},
     "output_type": "execute_result"
    }
   ],
   "source": [
    "# Display the first few rows of the private equity companies DataFrame\n",
    "private_equity_companies_df.head()"
   ]
  },
  {
   "cell_type": "code",
   "execution_count": 832,
   "id": "712d338f",
   "metadata": {},
   "outputs": [
    {
     "data": {
      "text/plain": [
       "(21, 9)"
      ]
     },
     "execution_count": 832,
     "metadata": {},
     "output_type": "execute_result"
    }
   ],
   "source": [
    "# Get the number of rows and columns in the private equity companies DataFrame\n",
    "private_equity_companies_df.shape"
   ]
  },
  {
   "cell_type": "code",
   "execution_count": 833,
   "id": "172b4e66",
   "metadata": {},
   "outputs": [
    {
     "data": {
      "text/plain": [
       "Index(['Priority', 'Company Name', 'Website', 'AUM\\n(Bns)', 'Sectors',\n",
       "       'Sample Portfolio Companies', 'Contact Name 1', 'Contact 2',\n",
       "       'Comments'],\n",
       "      dtype='object')"
      ]
     },
     "execution_count": 833,
     "metadata": {},
     "output_type": "execute_result"
    }
   ],
   "source": [
    "# Get a list of all the columns in the private equity companies DataFrame\n",
    "private_equity_companies_df.columns"
   ]
  },
  {
   "cell_type": "code",
   "execution_count": 834,
   "id": "f44dc804",
   "metadata": {},
   "outputs": [
    {
     "data": {
      "text/plain": [
       "Priority                      float64\n",
       "Company Name                   object\n",
       "Website                        object\n",
       "AUM\\n(Bns)                    float64\n",
       "Sectors                        object\n",
       "Sample Portfolio Companies     object\n",
       "Contact Name 1                 object\n",
       "Contact 2                      object\n",
       "Comments                       object\n",
       "dtype: object"
      ]
     },
     "execution_count": 834,
     "metadata": {},
     "output_type": "execute_result"
    }
   ],
   "source": [
    "# List the data types of each column in the private equity companies DataFrame\n",
    "private_equity_companies_df.dtypes"
   ]
  },
  {
   "cell_type": "code",
   "execution_count": 835,
   "id": "92e334ad",
   "metadata": {},
   "outputs": [
    {
     "data": {
      "text/html": [
       "<div>\n",
       "<style scoped>\n",
       "    .dataframe tbody tr th:only-of-type {\n",
       "        vertical-align: middle;\n",
       "    }\n",
       "\n",
       "    .dataframe tbody tr th {\n",
       "        vertical-align: top;\n",
       "    }\n",
       "\n",
       "    .dataframe thead th {\n",
       "        text-align: right;\n",
       "    }\n",
       "</style>\n",
       "<table border=\"1\" class=\"dataframe\">\n",
       "  <thead>\n",
       "    <tr style=\"text-align: right;\">\n",
       "      <th></th>\n",
       "      <th>Priority</th>\n",
       "      <th>AUM\\n(Bns)</th>\n",
       "    </tr>\n",
       "  </thead>\n",
       "  <tbody>\n",
       "    <tr>\n",
       "      <th>count</th>\n",
       "      <td>0.0</td>\n",
       "      <td>20.000000</td>\n",
       "    </tr>\n",
       "    <tr>\n",
       "      <th>mean</th>\n",
       "      <td>NaN</td>\n",
       "      <td>8.915000</td>\n",
       "    </tr>\n",
       "    <tr>\n",
       "      <th>std</th>\n",
       "      <td>NaN</td>\n",
       "      <td>4.997186</td>\n",
       "    </tr>\n",
       "    <tr>\n",
       "      <th>min</th>\n",
       "      <td>NaN</td>\n",
       "      <td>2.000000</td>\n",
       "    </tr>\n",
       "    <tr>\n",
       "      <th>25%</th>\n",
       "      <td>NaN</td>\n",
       "      <td>5.150000</td>\n",
       "    </tr>\n",
       "    <tr>\n",
       "      <th>50%</th>\n",
       "      <td>NaN</td>\n",
       "      <td>8.750000</td>\n",
       "    </tr>\n",
       "    <tr>\n",
       "      <th>75%</th>\n",
       "      <td>NaN</td>\n",
       "      <td>11.625000</td>\n",
       "    </tr>\n",
       "    <tr>\n",
       "      <th>max</th>\n",
       "      <td>NaN</td>\n",
       "      <td>20.000000</td>\n",
       "    </tr>\n",
       "  </tbody>\n",
       "</table>\n",
       "</div>"
      ],
      "text/plain": [
       "       Priority  AUM\\n(Bns)\n",
       "count       0.0   20.000000\n",
       "mean        NaN    8.915000\n",
       "std         NaN    4.997186\n",
       "min         NaN    2.000000\n",
       "25%         NaN    5.150000\n",
       "50%         NaN    8.750000\n",
       "75%         NaN   11.625000\n",
       "max         NaN   20.000000"
      ]
     },
     "execution_count": 835,
     "metadata": {},
     "output_type": "execute_result"
    }
   ],
   "source": [
    "# Display descriptive statistics for the DataFrame\n",
    "private_equity_companies_df.describe()"
   ]
  },
  {
   "cell_type": "markdown",
   "id": "074c93df",
   "metadata": {},
   "source": [
    "# Initial Data Cleansing"
   ]
  },
  {
   "cell_type": "code",
   "execution_count": 836,
   "id": "7fe2506b",
   "metadata": {},
   "outputs": [],
   "source": [
    "# Fill NaN values with empty strings\n",
    "all_verticals_deals_df = all_verticals_deals_df.fillna('')\n",
    "contacts_df = contacts_df.fillna('')\n",
    "events_df = events_df.fillna('')\n",
    "private_equity_companies_df = private_equity_companies_df.fillna('')"
   ]
  },
  {
   "cell_type": "markdown",
   "id": "bd7cc90e",
   "metadata": {},
   "source": [
    "# Export DataFrame for Transformation"
   ]
  },
  {
   "cell_type": "code",
   "execution_count": 837,
   "id": "025bedd8",
   "metadata": {},
   "outputs": [
    {
     "name": "stdout",
     "output_type": "stream",
     "text": [
      "Stored 'all_verticals_deals_df' (DataFrame)\n",
      "Stored 'contacts_df' (DataFrame)\n",
      "Stored 'events_df' (DataFrame)\n",
      "Stored 'private_equity_companies_df' (DataFrame)\n"
     ]
    }
   ],
   "source": [
    "%store all_verticals_deals_df\n",
    "%store contacts_df\n",
    "%store events_df\n",
    "%store private_equity_companies_df"
   ]
  }
 ],
 "metadata": {
  "kernelspec": {
   "display_name": "base",
   "language": "python",
   "name": "python3"
  },
  "language_info": {
   "codemirror_mode": {
    "name": "ipython",
    "version": 3
   },
   "file_extension": ".py",
   "mimetype": "text/x-python",
   "name": "python",
   "nbconvert_exporter": "python",
   "pygments_lexer": "ipython3",
   "version": "3.10.9"
  }
 },
 "nbformat": 4,
 "nbformat_minor": 5
}
